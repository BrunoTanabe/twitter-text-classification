{
  "cells": [
    {
      "cell_type": "markdown",
      "metadata": {
        "id": "AGgw36kc8udU"
      },
      "source": [
        "# Twitter Text Classification"
      ]
    },
    {
      "cell_type": "markdown",
      "metadata": {
        "id": "JtJGnXGi8zt9"
      },
      "source": [
        "## 1 Importing libraries"
      ]
    },
    {
      "cell_type": "code",
      "execution_count": 28,
      "metadata": {
        "id": "DelYAveq8yuX"
      },
      "outputs": [],
      "source": [
        "import re\n",
        "import spacy\n",
        "import random\n",
        "import string\n",
        "import numpy as np\n",
        "import pandas as pd\n",
        "import seaborn as sns\n",
        "import matplotlib.pyplot as plt\n",
        "from sklearn.metrics import confusion_matrix, accuracy_score\n"
      ]
    },
    {
      "cell_type": "markdown",
      "metadata": {
        "id": "iE3VMD8t86ky"
      },
      "source": [
        "## 2 Loading the databases\n",
        "\n",
        "- Kaggle Link: https://www.kaggle.com/augustop/portuguese-tweets-for-sentiment-analysis#TweetsNeutralHash.csv"
      ]
    },
    {
      "cell_type": "markdown",
      "metadata": {},
      "source": [
        "### Training database\n",
        "\n",
        "- Negative label: 0\n",
        "- Positive label: 1"
      ]
    },
    {
      "cell_type": "code",
      "execution_count": 29,
      "metadata": {
        "id": "jqsZesTIj1D1"
      },
      "outputs": [
        {
          "data": {
            "text/plain": [
              "(50000, 5)"
            ]
          },
          "execution_count": 29,
          "metadata": {},
          "output_type": "execute_result"
        }
      ],
      "source": [
        "training_database = pd.read_csv('../data/training/training_database.csv', delimiter=';')\n",
        "training_database.shape"
      ]
    },
    {
      "cell_type": "code",
      "execution_count": 30,
      "metadata": {
        "colab": {
          "base_uri": "https://localhost:8080/",
          "height": 250
        },
        "id": "ian62Lo5kKXp",
        "outputId": "28f1112a-2119-4f80-bb7c-fd7a57596f5e"
      },
      "outputs": [
        {
          "data": {
            "text/html": [
              "<div>\n",
              "<style scoped>\n",
              "    .dataframe tbody tr th:only-of-type {\n",
              "        vertical-align: middle;\n",
              "    }\n",
              "\n",
              "    .dataframe tbody tr th {\n",
              "        vertical-align: top;\n",
              "    }\n",
              "\n",
              "    .dataframe thead th {\n",
              "        text-align: right;\n",
              "    }\n",
              "</style>\n",
              "<table border=\"1\" class=\"dataframe\">\n",
              "  <thead>\n",
              "    <tr style=\"text-align: right;\">\n",
              "      <th></th>\n",
              "      <th>id</th>\n",
              "      <th>tweet_text</th>\n",
              "      <th>tweet_date</th>\n",
              "      <th>sentiment</th>\n",
              "      <th>query_used</th>\n",
              "    </tr>\n",
              "  </thead>\n",
              "  <tbody>\n",
              "    <tr>\n",
              "      <th>0</th>\n",
              "      <td>1050785521201541121</td>\n",
              "      <td>@Laranjito76 A pessoa certa para isso seria o ...</td>\n",
              "      <td>Fri Oct 12 16:29:25 +0000 2018</td>\n",
              "      <td>1</td>\n",
              "      <td>:)</td>\n",
              "    </tr>\n",
              "    <tr>\n",
              "      <th>1</th>\n",
              "      <td>1050785431955140608</td>\n",
              "      <td>@behin_d_curtain Para mim, é precisamente o co...</td>\n",
              "      <td>Fri Oct 12 16:29:04 +0000 2018</td>\n",
              "      <td>1</td>\n",
              "      <td>:)</td>\n",
              "    </tr>\n",
              "    <tr>\n",
              "      <th>2</th>\n",
              "      <td>1050785401248645120</td>\n",
              "      <td>Vou fazer um video hoje... estou pensando em f...</td>\n",
              "      <td>Fri Oct 12 16:28:56 +0000 2018</td>\n",
              "      <td>1</td>\n",
              "      <td>:)</td>\n",
              "    </tr>\n",
              "    <tr>\n",
              "      <th>3</th>\n",
              "      <td>1050785370982547461</td>\n",
              "      <td>aaaaaaaa amei tanto essas polaroids, nem sei e...</td>\n",
              "      <td>Fri Oct 12 16:28:49 +0000 2018</td>\n",
              "      <td>1</td>\n",
              "      <td>:)</td>\n",
              "    </tr>\n",
              "    <tr>\n",
              "      <th>4</th>\n",
              "      <td>1050785368902131713</td>\n",
              "      <td>Valoriza o coração do menininho que vc tem. El...</td>\n",
              "      <td>Fri Oct 12 16:28:49 +0000 2018</td>\n",
              "      <td>1</td>\n",
              "      <td>:)</td>\n",
              "    </tr>\n",
              "    <tr>\n",
              "      <th>5</th>\n",
              "      <td>1050785368008781825</td>\n",
              "      <td>@KingJokerLeto mas amiga eu to aqui ainda :)</td>\n",
              "      <td>Fri Oct 12 16:28:49 +0000 2018</td>\n",
              "      <td>1</td>\n",
              "      <td>:)</td>\n",
              "    </tr>\n",
              "    <tr>\n",
              "      <th>6</th>\n",
              "      <td>1050785350724014080</td>\n",
              "      <td>@RivasJairo Bravo, Jairo!!! :)))</td>\n",
              "      <td>Fri Oct 12 16:28:44 +0000 2018</td>\n",
              "      <td>1</td>\n",
              "      <td>:)</td>\n",
              "    </tr>\n",
              "    <tr>\n",
              "      <th>7</th>\n",
              "      <td>1050785336551444480</td>\n",
              "      <td>@inquilinasls @Spotify socorro ksoaksosks acho...</td>\n",
              "      <td>Fri Oct 12 16:28:41 +0000 2018</td>\n",
              "      <td>1</td>\n",
              "      <td>:)</td>\n",
              "    </tr>\n",
              "    <tr>\n",
              "      <th>8</th>\n",
              "      <td>1050785297028603905</td>\n",
              "      <td>@chimekarlla gosto muito de fazenda :) , mas m...</td>\n",
              "      <td>Fri Oct 12 16:28:32 +0000 2018</td>\n",
              "      <td>1</td>\n",
              "      <td>:)</td>\n",
              "    </tr>\n",
              "    <tr>\n",
              "      <th>9</th>\n",
              "      <td>1050785215235256320</td>\n",
              "      <td>Amanha vou ver venom :D</td>\n",
              "      <td>Fri Oct 12 16:28:12 +0000 2018</td>\n",
              "      <td>1</td>\n",
              "      <td>:)</td>\n",
              "    </tr>\n",
              "  </tbody>\n",
              "</table>\n",
              "</div>"
            ],
            "text/plain": [
              "                    id                                         tweet_text  \\\n",
              "0  1050785521201541121  @Laranjito76 A pessoa certa para isso seria o ...   \n",
              "1  1050785431955140608  @behin_d_curtain Para mim, é precisamente o co...   \n",
              "2  1050785401248645120  Vou fazer um video hoje... estou pensando em f...   \n",
              "3  1050785370982547461  aaaaaaaa amei tanto essas polaroids, nem sei e...   \n",
              "4  1050785368902131713  Valoriza o coração do menininho que vc tem. El...   \n",
              "5  1050785368008781825       @KingJokerLeto mas amiga eu to aqui ainda :)   \n",
              "6  1050785350724014080                   @RivasJairo Bravo, Jairo!!! :)))   \n",
              "7  1050785336551444480  @inquilinasls @Spotify socorro ksoaksosks acho...   \n",
              "8  1050785297028603905  @chimekarlla gosto muito de fazenda :) , mas m...   \n",
              "9  1050785215235256320                            Amanha vou ver venom :D   \n",
              "\n",
              "                       tweet_date  sentiment query_used  \n",
              "0  Fri Oct 12 16:29:25 +0000 2018          1         :)  \n",
              "1  Fri Oct 12 16:29:04 +0000 2018          1         :)  \n",
              "2  Fri Oct 12 16:28:56 +0000 2018          1         :)  \n",
              "3  Fri Oct 12 16:28:49 +0000 2018          1         :)  \n",
              "4  Fri Oct 12 16:28:49 +0000 2018          1         :)  \n",
              "5  Fri Oct 12 16:28:49 +0000 2018          1         :)  \n",
              "6  Fri Oct 12 16:28:44 +0000 2018          1         :)  \n",
              "7  Fri Oct 12 16:28:41 +0000 2018          1         :)  \n",
              "8  Fri Oct 12 16:28:32 +0000 2018          1         :)  \n",
              "9  Fri Oct 12 16:28:12 +0000 2018          1         :)  "
            ]
          },
          "execution_count": 30,
          "metadata": {},
          "output_type": "execute_result"
        }
      ],
      "source": [
        "training_database.head(10)"
      ]
    },
    {
      "cell_type": "code",
      "execution_count": 31,
      "metadata": {
        "colab": {
          "base_uri": "https://localhost:8080/",
          "height": 250
        },
        "id": "xFrzQLCckhEW",
        "outputId": "a787dece-f977-4e23-ec38-35be4e48eab4"
      },
      "outputs": [
        {
          "data": {
            "text/html": [
              "<div>\n",
              "<style scoped>\n",
              "    .dataframe tbody tr th:only-of-type {\n",
              "        vertical-align: middle;\n",
              "    }\n",
              "\n",
              "    .dataframe tbody tr th {\n",
              "        vertical-align: top;\n",
              "    }\n",
              "\n",
              "    .dataframe thead th {\n",
              "        text-align: right;\n",
              "    }\n",
              "</style>\n",
              "<table border=\"1\" class=\"dataframe\">\n",
              "  <thead>\n",
              "    <tr style=\"text-align: right;\">\n",
              "      <th></th>\n",
              "      <th>id</th>\n",
              "      <th>tweet_text</th>\n",
              "      <th>tweet_date</th>\n",
              "      <th>sentiment</th>\n",
              "      <th>query_used</th>\n",
              "    </tr>\n",
              "  </thead>\n",
              "  <tbody>\n",
              "    <tr>\n",
              "      <th>49990</th>\n",
              "      <td>1046762888717914115</td>\n",
              "      <td>queria uma sogra :( kk</td>\n",
              "      <td>Mon Oct 01 14:04:55 +0000 2018</td>\n",
              "      <td>0</td>\n",
              "      <td>:(</td>\n",
              "    </tr>\n",
              "    <tr>\n",
              "      <th>49991</th>\n",
              "      <td>1046762873618399232</td>\n",
              "      <td>Eu to tão triste de ficar essa semana toda sem...</td>\n",
              "      <td>Mon Oct 01 14:04:51 +0000 2018</td>\n",
              "      <td>0</td>\n",
              "      <td>:(</td>\n",
              "    </tr>\n",
              "    <tr>\n",
              "      <th>49992</th>\n",
              "      <td>1046762866995605504</td>\n",
              "      <td>Acabei de ouvir no rádio :( https://t.co/rj0lk...</td>\n",
              "      <td>Mon Oct 01 14:04:50 +0000 2018</td>\n",
              "      <td>0</td>\n",
              "      <td>:(</td>\n",
              "    </tr>\n",
              "    <tr>\n",
              "      <th>49993</th>\n",
              "      <td>1046762844279238657</td>\n",
              "      <td>Sdds dos tempos e da galera que não volta mais :(</td>\n",
              "      <td>Mon Oct 01 14:04:44 +0000 2018</td>\n",
              "      <td>0</td>\n",
              "      <td>:(</td>\n",
              "    </tr>\n",
              "    <tr>\n",
              "      <th>49994</th>\n",
              "      <td>1046762837496848386</td>\n",
              "      <td>@luciannasouzafe kkkkkkkkkkkkkkkkkkkkkkkkkkk a...</td>\n",
              "      <td>Mon Oct 01 14:04:43 +0000 2018</td>\n",
              "      <td>0</td>\n",
              "      <td>:(</td>\n",
              "    </tr>\n",
              "    <tr>\n",
              "      <th>49995</th>\n",
              "      <td>1046762827053232128</td>\n",
              "      <td>:( é tão lindo que dói https://t.co/GqnpgyWWxB</td>\n",
              "      <td>Mon Oct 01 14:04:40 +0000 2018</td>\n",
              "      <td>0</td>\n",
              "      <td>:(</td>\n",
              "    </tr>\n",
              "    <tr>\n",
              "      <th>49996</th>\n",
              "      <td>1046762813362966529</td>\n",
              "      <td>@veraluciarj Pois é.. tenho problema c/ \"coisa...</td>\n",
              "      <td>Mon Oct 01 14:04:37 +0000 2018</td>\n",
              "      <td>0</td>\n",
              "      <td>:(</td>\n",
              "    </tr>\n",
              "    <tr>\n",
              "      <th>49997</th>\n",
              "      <td>1046762806392082432</td>\n",
              "      <td>eu te amo tanto minja vidinha meu bem mais pre...</td>\n",
              "      <td>Mon Oct 01 14:04:35 +0000 2018</td>\n",
              "      <td>0</td>\n",
              "      <td>:(</td>\n",
              "    </tr>\n",
              "    <tr>\n",
              "      <th>49998</th>\n",
              "      <td>1046762752071618560</td>\n",
              "      <td>@itsLary @jessboluda Pfvor :(</td>\n",
              "      <td>Mon Oct 01 14:04:22 +0000 2018</td>\n",
              "      <td>0</td>\n",
              "      <td>:(</td>\n",
              "    </tr>\n",
              "    <tr>\n",
              "      <th>49999</th>\n",
              "      <td>1046762735340584962</td>\n",
              "      <td>@Renk_lol Passa ano Entra ano Eu nao desisto d...</td>\n",
              "      <td>Mon Oct 01 14:04:18 +0000 2018</td>\n",
              "      <td>0</td>\n",
              "      <td>:(</td>\n",
              "    </tr>\n",
              "  </tbody>\n",
              "</table>\n",
              "</div>"
            ],
            "text/plain": [
              "                        id                                         tweet_text  \\\n",
              "49990  1046762888717914115                             queria uma sogra :( kk   \n",
              "49991  1046762873618399232  Eu to tão triste de ficar essa semana toda sem...   \n",
              "49992  1046762866995605504  Acabei de ouvir no rádio :( https://t.co/rj0lk...   \n",
              "49993  1046762844279238657  Sdds dos tempos e da galera que não volta mais :(   \n",
              "49994  1046762837496848386  @luciannasouzafe kkkkkkkkkkkkkkkkkkkkkkkkkkk a...   \n",
              "49995  1046762827053232128     :( é tão lindo que dói https://t.co/GqnpgyWWxB   \n",
              "49996  1046762813362966529  @veraluciarj Pois é.. tenho problema c/ \"coisa...   \n",
              "49997  1046762806392082432  eu te amo tanto minja vidinha meu bem mais pre...   \n",
              "49998  1046762752071618560                      @itsLary @jessboluda Pfvor :(   \n",
              "49999  1046762735340584962  @Renk_lol Passa ano Entra ano Eu nao desisto d...   \n",
              "\n",
              "                           tweet_date  sentiment query_used  \n",
              "49990  Mon Oct 01 14:04:55 +0000 2018          0         :(  \n",
              "49991  Mon Oct 01 14:04:51 +0000 2018          0         :(  \n",
              "49992  Mon Oct 01 14:04:50 +0000 2018          0         :(  \n",
              "49993  Mon Oct 01 14:04:44 +0000 2018          0         :(  \n",
              "49994  Mon Oct 01 14:04:43 +0000 2018          0         :(  \n",
              "49995  Mon Oct 01 14:04:40 +0000 2018          0         :(  \n",
              "49996  Mon Oct 01 14:04:37 +0000 2018          0         :(  \n",
              "49997  Mon Oct 01 14:04:35 +0000 2018          0         :(  \n",
              "49998  Mon Oct 01 14:04:22 +0000 2018          0         :(  \n",
              "49999  Mon Oct 01 14:04:18 +0000 2018          0         :(  "
            ]
          },
          "execution_count": 31,
          "metadata": {},
          "output_type": "execute_result"
        }
      ],
      "source": [
        "training_database.tail(10)"
      ]
    },
    {
      "cell_type": "code",
      "execution_count": 32,
      "metadata": {
        "colab": {
          "base_uri": "https://localhost:8080/",
          "height": 334
        },
        "id": "IVVwuPGhkm5h",
        "outputId": "a30f2ed9-83ad-44ff-9ede-6f66def37923"
      },
      "outputs": [
        {
          "data": {
            "image/png": "[encoded data removed]",
            "text/plain": [
              "<Figure size 640x480 with 1 Axes>"
            ]
          },
          "metadata": {},
          "output_type": "display_data"
        }
      ],
      "source": [
        "colors = ['blue', 'yellow']\n",
        "sns.countplot(x = training_database['sentiment'], hue = training_database['sentiment'], palette=colors, legend=True);\n",
        "# It's 50 thousand tweets, 25 thousand positive and 25 thousand negative.\n",
        "# negative = blue, positive = yellow"
      ]
    },
    {
      "cell_type": "code",
      "execution_count": 33,
      "metadata": {
        "id": "-xTh-gqelMWn"
      },
      "outputs": [],
      "source": [
        "# Deleting columns that won't be used, tweet_date and query_used\n",
        "training_database.drop(['id', 'tweet_date', 'query_used'], axis = 1, inplace=True)"
      ]
    },
    {
      "cell_type": "code",
      "execution_count": 34,
      "metadata": {
        "colab": {
          "base_uri": "https://localhost:8080/",
          "height": 206
        },
        "id": "82hWS5cklVZ_",
        "outputId": "0da20b3c-3b32-4309-d719-5de3ac258369"
      },
      "outputs": [
        {
          "data": {
            "text/html": [
              "<div>\n",
              "<style scoped>\n",
              "    .dataframe tbody tr th:only-of-type {\n",
              "        vertical-align: middle;\n",
              "    }\n",
              "\n",
              "    .dataframe tbody tr th {\n",
              "        vertical-align: top;\n",
              "    }\n",
              "\n",
              "    .dataframe thead th {\n",
              "        text-align: right;\n",
              "    }\n",
              "</style>\n",
              "<table border=\"1\" class=\"dataframe\">\n",
              "  <thead>\n",
              "    <tr style=\"text-align: right;\">\n",
              "      <th></th>\n",
              "      <th>tweet_text</th>\n",
              "      <th>sentiment</th>\n",
              "    </tr>\n",
              "  </thead>\n",
              "  <tbody>\n",
              "    <tr>\n",
              "      <th>0</th>\n",
              "      <td>@Laranjito76 A pessoa certa para isso seria o ...</td>\n",
              "      <td>1</td>\n",
              "    </tr>\n",
              "    <tr>\n",
              "      <th>1</th>\n",
              "      <td>@behin_d_curtain Para mim, é precisamente o co...</td>\n",
              "      <td>1</td>\n",
              "    </tr>\n",
              "    <tr>\n",
              "      <th>2</th>\n",
              "      <td>Vou fazer um video hoje... estou pensando em f...</td>\n",
              "      <td>1</td>\n",
              "    </tr>\n",
              "    <tr>\n",
              "      <th>3</th>\n",
              "      <td>aaaaaaaa amei tanto essas polaroids, nem sei e...</td>\n",
              "      <td>1</td>\n",
              "    </tr>\n",
              "    <tr>\n",
              "      <th>4</th>\n",
              "      <td>Valoriza o coração do menininho que vc tem. El...</td>\n",
              "      <td>1</td>\n",
              "    </tr>\n",
              "    <tr>\n",
              "      <th>5</th>\n",
              "      <td>@KingJokerLeto mas amiga eu to aqui ainda :)</td>\n",
              "      <td>1</td>\n",
              "    </tr>\n",
              "    <tr>\n",
              "      <th>6</th>\n",
              "      <td>@RivasJairo Bravo, Jairo!!! :)))</td>\n",
              "      <td>1</td>\n",
              "    </tr>\n",
              "    <tr>\n",
              "      <th>7</th>\n",
              "      <td>@inquilinasls @Spotify socorro ksoaksosks acho...</td>\n",
              "      <td>1</td>\n",
              "    </tr>\n",
              "    <tr>\n",
              "      <th>8</th>\n",
              "      <td>@chimekarlla gosto muito de fazenda :) , mas m...</td>\n",
              "      <td>1</td>\n",
              "    </tr>\n",
              "    <tr>\n",
              "      <th>9</th>\n",
              "      <td>Amanha vou ver venom :D</td>\n",
              "      <td>1</td>\n",
              "    </tr>\n",
              "  </tbody>\n",
              "</table>\n",
              "</div>"
            ],
            "text/plain": [
              "                                          tweet_text  sentiment\n",
              "0  @Laranjito76 A pessoa certa para isso seria o ...          1\n",
              "1  @behin_d_curtain Para mim, é precisamente o co...          1\n",
              "2  Vou fazer um video hoje... estou pensando em f...          1\n",
              "3  aaaaaaaa amei tanto essas polaroids, nem sei e...          1\n",
              "4  Valoriza o coração do menininho que vc tem. El...          1\n",
              "5       @KingJokerLeto mas amiga eu to aqui ainda :)          1\n",
              "6                   @RivasJairo Bravo, Jairo!!! :)))          1\n",
              "7  @inquilinasls @Spotify socorro ksoaksosks acho...          1\n",
              "8  @chimekarlla gosto muito de fazenda :) , mas m...          1\n",
              "9                            Amanha vou ver venom :D          1"
            ]
          },
          "execution_count": 34,
          "metadata": {},
          "output_type": "execute_result"
        }
      ],
      "source": [
        "training_database.head(10)"
      ]
    },
    {
      "cell_type": "code",
      "execution_count": 35,
      "metadata": {
        "colab": {
          "base_uri": "https://localhost:8080/",
          "height": 271
        },
        "id": "dfMcmaval-7w",
        "outputId": "42f81c2f-9d7c-4a2e-9c4e-5c11df7938b2"
      },
      "outputs": [
        {
          "data": {
            "image/png": "[encoded data removed]",
            "text/plain": [
              "<Figure size 640x480 with 2 Axes>"
            ]
          },
          "metadata": {},
          "output_type": "display_data"
        }
      ],
      "source": [
        "# Checking for null values\n",
        "sns.heatmap(pd.isnull(training_database));"
      ]
    },
    {
      "cell_type": "markdown",
      "metadata": {
        "id": "KwANq9uCx-jV"
      },
      "source": [
        "### Testing database\n",
        "\n",
        "- Negative label: 0\n",
        "- Positive label: 1"
      ]
    },
    {
      "cell_type": "code",
      "execution_count": 36,
      "metadata": {
        "id": "PllVVG-IlYkC"
      },
      "outputs": [],
      "source": [
        "testing_database = pd.read_csv('../data/testing/testing_database.csv', delimiter=';')"
      ]
    },
    {
      "cell_type": "code",
      "execution_count": 37,
      "metadata": {
        "colab": {
          "base_uri": "https://localhost:8080/",
          "height": 337
        },
        "id": "yeiX7jb-lfdE",
        "outputId": "0afeeed2-7b43-4db6-8b8c-825d82bf0918"
      },
      "outputs": [
        {
          "data": {
            "text/html": [
              "<div>\n",
              "<style scoped>\n",
              "    .dataframe tbody tr th:only-of-type {\n",
              "        vertical-align: middle;\n",
              "    }\n",
              "\n",
              "    .dataframe tbody tr th {\n",
              "        vertical-align: top;\n",
              "    }\n",
              "\n",
              "    .dataframe thead th {\n",
              "        text-align: right;\n",
              "    }\n",
              "</style>\n",
              "<table border=\"1\" class=\"dataframe\">\n",
              "  <thead>\n",
              "    <tr style=\"text-align: right;\">\n",
              "      <th></th>\n",
              "      <th>id</th>\n",
              "      <th>tweet_text</th>\n",
              "      <th>tweet_date</th>\n",
              "      <th>sentiment</th>\n",
              "      <th>query_used</th>\n",
              "    </tr>\n",
              "  </thead>\n",
              "  <tbody>\n",
              "    <tr>\n",
              "      <th>0</th>\n",
              "      <td>1029536486021099522</td>\n",
              "      <td>@Gazo1a Nossa! Muito obrigada :)</td>\n",
              "      <td>Wed Aug 15 01:13:20 +0000 2018</td>\n",
              "      <td>1</td>\n",
              "      <td>:)</td>\n",
              "    </tr>\n",
              "    <tr>\n",
              "      <th>1</th>\n",
              "      <td>1029536496368406528</td>\n",
              "      <td>@BerzGamer vai pa puta que te pariu :)</td>\n",
              "      <td>Wed Aug 15 01:13:23 +0000 2018</td>\n",
              "      <td>1</td>\n",
              "      <td>:)</td>\n",
              "    </tr>\n",
              "    <tr>\n",
              "      <th>2</th>\n",
              "      <td>1029536531655131137</td>\n",
              "      <td>QUER MAIS DESCONTOS? (14/08) ⭐⭐⭐⭐⭐ 🌐 Confira n...</td>\n",
              "      <td>Wed Aug 15 01:13:31 +0000 2018</td>\n",
              "      <td>1</td>\n",
              "      <td>:)</td>\n",
              "    </tr>\n",
              "    <tr>\n",
              "      <th>3</th>\n",
              "      <td>1029536560117678081</td>\n",
              "      <td>EU VOU PEGAR VCS, ME AJUDEM GALERA, PELO AMOR ...</td>\n",
              "      <td>Wed Aug 15 01:13:38 +0000 2018</td>\n",
              "      <td>1</td>\n",
              "      <td>:)</td>\n",
              "    </tr>\n",
              "    <tr>\n",
              "      <th>4</th>\n",
              "      <td>1029536605852377088</td>\n",
              "      <td>Estávamos em casa do Zé e eu estava a morrer d...</td>\n",
              "      <td>Wed Aug 15 01:13:49 +0000 2018</td>\n",
              "      <td>1</td>\n",
              "      <td>:)</td>\n",
              "    </tr>\n",
              "    <tr>\n",
              "      <th>5</th>\n",
              "      <td>1029536620368863234</td>\n",
              "      <td>Precisa :) https://t.co/DcLGDHbjT0</td>\n",
              "      <td>Wed Aug 15 01:13:52 +0000 2018</td>\n",
              "      <td>1</td>\n",
              "      <td>:)</td>\n",
              "    </tr>\n",
              "    <tr>\n",
              "      <th>6</th>\n",
              "      <td>1029536626656129024</td>\n",
              "      <td>@Jeniabreu07 mas por acaso adoro beijos e abra...</td>\n",
              "      <td>Wed Aug 15 01:13:54 +0000 2018</td>\n",
              "      <td>1</td>\n",
              "      <td>:)</td>\n",
              "    </tr>\n",
              "    <tr>\n",
              "      <th>7</th>\n",
              "      <td>1029536638140141569</td>\n",
              "      <td>Solteiro s sozinho sempre :)</td>\n",
              "      <td>Wed Aug 15 01:13:57 +0000 2018</td>\n",
              "      <td>1</td>\n",
              "      <td>:)</td>\n",
              "    </tr>\n",
              "    <tr>\n",
              "      <th>8</th>\n",
              "      <td>1029536643500462080</td>\n",
              "      <td>Lindezas Cortador kit Mário coleção Bia Cravol...</td>\n",
              "      <td>Wed Aug 15 01:13:58 +0000 2018</td>\n",
              "      <td>1</td>\n",
              "      <td>:)</td>\n",
              "    </tr>\n",
              "    <tr>\n",
              "      <th>9</th>\n",
              "      <td>1029536659388424192</td>\n",
              "      <td>@otphurts Claro que sim :))</td>\n",
              "      <td>Wed Aug 15 01:14:02 +0000 2018</td>\n",
              "      <td>1</td>\n",
              "      <td>:)</td>\n",
              "    </tr>\n",
              "  </tbody>\n",
              "</table>\n",
              "</div>"
            ],
            "text/plain": [
              "                    id                                         tweet_text  \\\n",
              "0  1029536486021099522                   @Gazo1a Nossa! Muito obrigada :)   \n",
              "1  1029536496368406528             @BerzGamer vai pa puta que te pariu :)   \n",
              "2  1029536531655131137  QUER MAIS DESCONTOS? (14/08) ⭐⭐⭐⭐⭐ 🌐 Confira n...   \n",
              "3  1029536560117678081  EU VOU PEGAR VCS, ME AJUDEM GALERA, PELO AMOR ...   \n",
              "4  1029536605852377088  Estávamos em casa do Zé e eu estava a morrer d...   \n",
              "5  1029536620368863234                 Precisa :) https://t.co/DcLGDHbjT0   \n",
              "6  1029536626656129024  @Jeniabreu07 mas por acaso adoro beijos e abra...   \n",
              "7  1029536638140141569                       Solteiro s sozinho sempre :)   \n",
              "8  1029536643500462080  Lindezas Cortador kit Mário coleção Bia Cravol...   \n",
              "9  1029536659388424192                        @otphurts Claro que sim :))   \n",
              "\n",
              "                       tweet_date  sentiment query_used  \n",
              "0  Wed Aug 15 01:13:20 +0000 2018          1         :)  \n",
              "1  Wed Aug 15 01:13:23 +0000 2018          1         :)  \n",
              "2  Wed Aug 15 01:13:31 +0000 2018          1         :)  \n",
              "3  Wed Aug 15 01:13:38 +0000 2018          1         :)  \n",
              "4  Wed Aug 15 01:13:49 +0000 2018          1         :)  \n",
              "5  Wed Aug 15 01:13:52 +0000 2018          1         :)  \n",
              "6  Wed Aug 15 01:13:54 +0000 2018          1         :)  \n",
              "7  Wed Aug 15 01:13:57 +0000 2018          1         :)  \n",
              "8  Wed Aug 15 01:13:58 +0000 2018          1         :)  \n",
              "9  Wed Aug 15 01:14:02 +0000 2018          1         :)  "
            ]
          },
          "execution_count": 37,
          "metadata": {},
          "output_type": "execute_result"
        }
      ],
      "source": [
        "testing_database.head(10)"
      ]
    },
    {
      "cell_type": "code",
      "execution_count": 38,
      "metadata": {
        "colab": {
          "base_uri": "https://localhost:8080/"
        },
        "id": "Lr5tKcjPlkQy",
        "outputId": "746663a7-7882-4300-970a-1ccd338037ad"
      },
      "outputs": [
        {
          "data": {
            "text/plain": [
              "(5000, 5)"
            ]
          },
          "execution_count": 38,
          "metadata": {},
          "output_type": "execute_result"
        }
      ],
      "source": [
        "testing_database.shape"
      ]
    },
    {
      "cell_type": "code",
      "execution_count": 39,
      "metadata": {
        "colab": {
          "base_uri": "https://localhost:8080/",
          "height": 334
        },
        "id": "uyU25iuZlnSP",
        "outputId": "d2304438-5f77-4d15-9895-02caf29de92d"
      },
      "outputs": [
        {
          "data": {
            "image/png": "[encoded data removed]",
            "text/plain": [
              "<Figure size 640x480 with 1 Axes>"
            ]
          },
          "metadata": {},
          "output_type": "display_data"
        }
      ],
      "source": [
        "colors = ['blue', 'yellow']\n",
        "sns.countplot(x = testing_database['sentiment'], hue = testing_database['sentiment'], palette=colors, legend=True);\n",
        "# It's 5 thousand tweets, 2.5 thousand positive and 2.5 thousand negative.\n",
        "# negative = blue, positive = yellow'"
      ]
    },
    {
      "cell_type": "code",
      "execution_count": 40,
      "metadata": {
        "id": "gPgCCOZslxXy"
      },
      "outputs": [],
      "source": [
        "# Deleting columns that won't be used, tweet_date and query_used.\n",
        "testing_database.drop(['id', 'tweet_date', 'query_used'], axis = 1, inplace=True)"
      ]
    },
    {
      "cell_type": "code",
      "execution_count": 41,
      "metadata": {
        "colab": {
          "base_uri": "https://localhost:8080/",
          "height": 206
        },
        "id": "5evaWMpvl1kg",
        "outputId": "271e8ed8-78f6-4f86-d244-96d0d58a65b4"
      },
      "outputs": [
        {
          "data": {
            "text/html": [
              "<div>\n",
              "<style scoped>\n",
              "    .dataframe tbody tr th:only-of-type {\n",
              "        vertical-align: middle;\n",
              "    }\n",
              "\n",
              "    .dataframe tbody tr th {\n",
              "        vertical-align: top;\n",
              "    }\n",
              "\n",
              "    .dataframe thead th {\n",
              "        text-align: right;\n",
              "    }\n",
              "</style>\n",
              "<table border=\"1\" class=\"dataframe\">\n",
              "  <thead>\n",
              "    <tr style=\"text-align: right;\">\n",
              "      <th></th>\n",
              "      <th>tweet_text</th>\n",
              "      <th>sentiment</th>\n",
              "    </tr>\n",
              "  </thead>\n",
              "  <tbody>\n",
              "    <tr>\n",
              "      <th>0</th>\n",
              "      <td>@Gazo1a Nossa! Muito obrigada :)</td>\n",
              "      <td>1</td>\n",
              "    </tr>\n",
              "    <tr>\n",
              "      <th>1</th>\n",
              "      <td>@BerzGamer vai pa puta que te pariu :)</td>\n",
              "      <td>1</td>\n",
              "    </tr>\n",
              "    <tr>\n",
              "      <th>2</th>\n",
              "      <td>QUER MAIS DESCONTOS? (14/08) ⭐⭐⭐⭐⭐ 🌐 Confira n...</td>\n",
              "      <td>1</td>\n",
              "    </tr>\n",
              "    <tr>\n",
              "      <th>3</th>\n",
              "      <td>EU VOU PEGAR VCS, ME AJUDEM GALERA, PELO AMOR ...</td>\n",
              "      <td>1</td>\n",
              "    </tr>\n",
              "    <tr>\n",
              "      <th>4</th>\n",
              "      <td>Estávamos em casa do Zé e eu estava a morrer d...</td>\n",
              "      <td>1</td>\n",
              "    </tr>\n",
              "    <tr>\n",
              "      <th>5</th>\n",
              "      <td>Precisa :) https://t.co/DcLGDHbjT0</td>\n",
              "      <td>1</td>\n",
              "    </tr>\n",
              "    <tr>\n",
              "      <th>6</th>\n",
              "      <td>@Jeniabreu07 mas por acaso adoro beijos e abra...</td>\n",
              "      <td>1</td>\n",
              "    </tr>\n",
              "    <tr>\n",
              "      <th>7</th>\n",
              "      <td>Solteiro s sozinho sempre :)</td>\n",
              "      <td>1</td>\n",
              "    </tr>\n",
              "    <tr>\n",
              "      <th>8</th>\n",
              "      <td>Lindezas Cortador kit Mário coleção Bia Cravol...</td>\n",
              "      <td>1</td>\n",
              "    </tr>\n",
              "    <tr>\n",
              "      <th>9</th>\n",
              "      <td>@otphurts Claro que sim :))</td>\n",
              "      <td>1</td>\n",
              "    </tr>\n",
              "  </tbody>\n",
              "</table>\n",
              "</div>"
            ],
            "text/plain": [
              "                                          tweet_text  sentiment\n",
              "0                   @Gazo1a Nossa! Muito obrigada :)          1\n",
              "1             @BerzGamer vai pa puta que te pariu :)          1\n",
              "2  QUER MAIS DESCONTOS? (14/08) ⭐⭐⭐⭐⭐ 🌐 Confira n...          1\n",
              "3  EU VOU PEGAR VCS, ME AJUDEM GALERA, PELO AMOR ...          1\n",
              "4  Estávamos em casa do Zé e eu estava a morrer d...          1\n",
              "5                 Precisa :) https://t.co/DcLGDHbjT0          1\n",
              "6  @Jeniabreu07 mas por acaso adoro beijos e abra...          1\n",
              "7                       Solteiro s sozinho sempre :)          1\n",
              "8  Lindezas Cortador kit Mário coleção Bia Cravol...          1\n",
              "9                        @otphurts Claro que sim :))          1"
            ]
          },
          "execution_count": 41,
          "metadata": {},
          "output_type": "execute_result"
        }
      ],
      "source": [
        "testing_database.head(10)"
      ]
    },
    {
      "cell_type": "code",
      "execution_count": 42,
      "metadata": {
        "colab": {
          "base_uri": "https://localhost:8080/",
          "height": 271
        },
        "id": "FYE-KGRkmZcd",
        "outputId": "711c850e-4e70-469b-9c2e-923fcd5b5021"
      },
      "outputs": [
        {
          "data": {
            "image/png": "[encoded data removed]",
            "text/plain": [
              "<Figure size 640x480 with 2 Axes>"
            ]
          },
          "metadata": {},
          "output_type": "display_data"
        }
      ],
      "source": [
        "# Checking for null values\n",
        "sns.heatmap(pd.isnull(testing_database));"
      ]
    },
    {
      "cell_type": "markdown",
      "metadata": {
        "id": "h36-8Ien-AQ1"
      },
      "source": [
        "## 3 Text preprocessing\n",
        "\n",
        "- Lowercase letters\n",
        "- Usernames (@)\n",
        "- URLs\n",
        "- empty spaces\n",
        "- Emoticons\n",
        "- Stop words\n",
        "- Lemmatization\n",
        "- Punctuation"
      ]
    },
    {
      "cell_type": "code",
      "execution_count": 43,
      "metadata": {
        "colab": {
          "base_uri": "https://localhost:8080/"
        },
        "id": "gOur6ftJnKuP",
        "outputId": "f855ac6a-b18c-422f-8dee-dc98f2ea7eed"
      },
      "outputs": [
        {
          "data": {
            "text/plain": [
              "<spacy.lang.pt.Portuguese at 0x7fdc18e377f0>"
            ]
          },
          "execution_count": 43,
          "metadata": {},
          "output_type": "execute_result"
        }
      ],
      "source": [
        "nlp = spacy.load(\"pt_core_news_lg\")\n",
        "nlp"
      ]
    },
    {
      "cell_type": "code",
      "execution_count": 44,
      "metadata": {
        "colab": {
          "base_uri": "https://localhost:8080/",
          "height": 35
        },
        "id": "m8eGCSuHnSYM",
        "outputId": "1ae0b22a-9d6f-4417-a278-7bb232158268"
      },
      "outputs": [
        {
          "data": {
            "text/plain": [
              "'@Laranjito76 A pessoa certa para isso seria o vale e azevedo :)'"
            ]
          },
          "execution_count": 44,
          "metadata": {},
          "output_type": "execute_result"
        }
      ],
      "source": [
        "training_database['tweet_text'][0]"
      ]
    },
    {
      "cell_type": "code",
      "execution_count": 20,
      "metadata": {
        "id": "z6-JRv8Ynayt"
      },
      "outputs": [
        {
          "name": "stdout",
          "output_type": "stream",
          "text": [
            "{'fui', 'dar', 'nível', 'nossa', 'quem', 'diz', 'comprido', 'sexta', 'dezanove', 'desse', 'nos', 'vindo', 'além', 'dezassete', 'estado', 'custa', 'poderá', 'dezoito', 'deste', 'corrente', 'neste', 'daquele', 'nesta', 'quais', 'nove', 'da', 'apoia', 'foram', 'minhas', 'ele', 'pelas', 'teus', 'deve', 'perto', 'mil', 'assim', 'quero', 'nosso', 'vens', 'estiveram', 'eventual', 'vos', 'vem', 'era', 'aí', 'treze', 'são', 'agora', 'onde', 'aos', 'ademais', 'já', 'bem', 'quarto', 'teve', 'dá', 'naquele', 'você', 'final', 'também', 'quatro', 'ontem', 'máximo', 'tiveram', 'tão', 'fostes', 'faz', 'grupo', 'nós', 'tal', 'boa', 'devem', 'desde', 'por', 'ela', 'inclusive', 'para', 'sei', 'embora', 'longe', 'diante', 'zero', 'tem', 'vocês', 'contra', 'dizem', 'inicio', 'fazeis', 'novas', 'maior', 'estará', 'quinze', 'conselho', 'breve', 'nem', 'os', 'aquele', 'tu', 'irá', 'teu', 'dessa', 'toda', 'cada', 'porquanto', 'qualquer', 'às', 'as', 'outras', 'adeus', 'lhe', 'entre', 'último', 'demais', 'tive', 'pela', 'puderam', 'tivemos', 'apontar', 'três', 'essa', 'meus', 'outra', 'essas', 'foi', 'outros', 'sua', 'seu', 'à', 'enquanto', 'estou', 'põem', 'ponto', 'nada', 'talvez', 'seus', 'tenho', 'próxima', 'após', 'somos', 'a', 'me', 'obrigado', 'parte', 'pouco', 'fomos', 'ambos', 'isto', 'veja', 'tempo', 'dentro', 'quarta', 'fez', 'sou', 'quer', 'ou', 'elas', 'eu', 'seis', 'meio', 'pontos', 'próprio', 'menos', 'tudo', 'favor', 'nas', 'doze', 'grande', 'quinta', 'nuns', 'atrás', 'têm', 'nunca', 'pôde', 'local', 'apenas', 'ora', 'estivemos', 'obrigada', 'acerca', 'oito', 'podem', 'porquê', 'dois', 'coisa', 'quando', 'não', 'naquela', 'ainda', 'lugar', 'um', 'porém', 'fazem', 'cima', 'vinte', 'nova', 'esse', 'apoio', 'estivestes', 'catorze', 'estão', 'tiveste', 'mês', 'tanto', 'dezasseis', 'povo', 'mesmo', 'vossos', 'geral', 'tua', 'umas', 'sois', 'estas', 'mais', 'temos', 'num', 'direita', 'tuas', 'ligado', 'fim', 'terceira', 'tens', 'quê', 'sob', 'numa', 'cujo', 'pelo', 'muitos', 'uma', 'das', 'lado', 'onze', 'duas', 'aquelas', 'portanto', 'ir', 'faço', 'números', 'exemplo', 'de', 'eles', 'vários', 'está', 'estava', 'põe', 'deverá', 'mas', 'quieta', 'certeza', 'vezes', 'vai', 'então', 'oitavo', 'aquilo', 'vosso', 'maioria', 'algo', 'nossas', 'número', 'próximo', 'grandes', 'dez', 'bom', 'ser', 'alguns', 'fazes', 'porque', 'ver', 'poder', 'segundo', 'sexto', 'contudo', 'conhecido', 'iniciar', 'des', 'nenhuma', 'com', 'foste', 'segunda', 'cinco', 'nossos', 'sim', 'tentei', 'fazemos', 'ali', 'usa', 'vós', 'terceiro', 'ao', 'sem', 'parece', 'vez', 'aquela', 'uns', 'quanto', 'daquela', 'primeira', 'conhecida', 'menor', 'este', 'aqui', 'cedo', 'que', 'cento', 'oitava', 'tentar', 'sempre', 'antes', 'em', 'tentaram', 'novos', 'tarde', 'estiveste', 'mal', 'meses', 'lá', 'partir', 'debaixo', 'aqueles', 'qual', 'bastante', 'caminho', 'é', 'vossa', 'podia', 'na', 'querem', 'tendes', 'esteve', 'vinda', 'és', 'seria', 'posso', 'o', 'sobre', 'relação', 'questão', 'muito', 'todo', 'algumas', 'pouca', 'sistema', 'do', 'tanta', 'comprida', 'desta', 'fazia', 'quinto', 'somente', 'cuja', 'todos', 'vão', 'saber', 'depois', 'quieto', 'cá', 'sabe', 'posição', 'pegar', 'tente', 'pelos', 'for', 'isso', 'tipo', 'esses', 'vais', 'sétima', 'momento', 'ambas', 'nesse', 'área', 'dão', 'pois', 'e', 'fará', 'estar', 'tais', 'dizer', 'pode', 'fora', 'novo', 'certamente', 'valor', 'no', 'primeiro', 'até', 'possível', 'ter', 'forma', 'estive', 'possivelmente', 'nessa', 'só', 'meu', 'vêm', 'logo', 'sete', 'minha', 'estás', 'te', 'baixo', 'dos', 'suas', 'tivestes', 'esta', 'estes', 'usar', 'como', 'fazer', 'se', 'falta', 'disso', 'vossas', 'todas', 'através', 'maiorias', 'sétimo'}\n"
          ]
        }
      ],
      "source": [
        "stop_words = spacy.lang.pt.stop_words.STOP_WORDS\n",
        "print(stop_words)"
      ]
    },
    {
      "cell_type": "code",
      "execution_count": 45,
      "metadata": {
        "colab": {
          "base_uri": "https://localhost:8080/",
          "height": 35
        },
        "id": "n1lFJDhJnoth",
        "outputId": "3097019f-2793-4755-b2d7-5b57ad8325cc"
      },
      "outputs": [
        {
          "data": {
            "text/plain": [
              "'!\"#$%&\\'()*+,-./:;<=>?@[\\\\]^_`{|}~'"
            ]
          },
          "execution_count": 45,
          "metadata": {},
          "output_type": "execute_result"
        }
      ],
      "source": [
        "string.punctuation"
      ]
    },
    {
      "cell_type": "code",
      "execution_count": 46,
      "metadata": {
        "id": "rS9ldTSJnsMb"
      },
      "outputs": [],
      "source": [
        "def preprocessing(text):\n",
        "\n",
        "  # lowercase\n",
        "  text = text.lower()\n",
        "\n",
        "  # username\n",
        "  text = re.sub(r\"@[A-Za-z0-9$-_@.&+]+\", ' ', text)\n",
        "\n",
        "  # urls\n",
        "  text = re.sub(r\"https?://[A-Za-z0-9./]+\", ' ', text)\n",
        "\n",
        "  # empty spaces\n",
        "  text = re.sub(r\" +\", ' ', text)\n",
        "\n",
        "  # emoticons\n",
        "  emotions_list = {':)': 'emocaopositiva',\n",
        "                   ':d': 'emocaopositiva',\n",
        "                   ':(': 'emocaonegativa'}\n",
        "  for emotion in emotions_list:\n",
        "    text = text.replace(emotion, emotions_list[emotion])\n",
        "\n",
        "  # lemmatization\n",
        "  document = nlp(text)\n",
        "  list = []\n",
        "  for token in document:\n",
        "    list.append(token.lemma_)\n",
        "\n",
        "  # stopwords and punctuation\n",
        "  list = [word for word in list if word not in stop_words and word not in string.punctuation]\n",
        "  list = ' '.join([str(element) for element in list if not element.isdigit()])\n",
        "\n",
        "  return list"
      ]
    },
    {
      "cell_type": "code",
      "execution_count": 47,
      "metadata": {
        "colab": {
          "base_uri": "https://localhost:8080/",
          "height": 53
        },
        "id": "iIy-2X18n0G8",
        "outputId": "5793abee-31f4-4982-ad25-c576df73bc88"
      },
      "outputs": [
        {
          "data": {
            "text/plain": [
              "'  emocaopositiva parir emocaonegativa mim precisamente contrário emocaopositiva vir chuva vir disposição emocaopositiva'"
            ]
          },
          "execution_count": 47,
          "metadata": {},
          "output_type": "execute_result"
        }
      ],
      "source": [
        "text_test = '@behin_d_curtain :D Para :( mim, http://www.iaexpert.com.br é precisamente o contrário :) Vem a chuva e vem a boa disposição :)'\n",
        "result = preprocessing(text_test)\n",
        "result"
      ]
    },
    {
      "cell_type": "markdown",
      "metadata": {
        "id": "DtL8DBPVOFoL"
      },
      "source": [
        "## 4 Pre-processing of the database"
      ]
    },
    {
      "cell_type": "markdown",
      "metadata": {
        "id": "n7G5PSVUOOId"
      },
      "source": [
        "### Text cleaning"
      ]
    },
    {
      "cell_type": "code",
      "execution_count": 48,
      "metadata": {
        "colab": {
          "base_uri": "https://localhost:8080/",
          "height": 363
        },
        "id": "o3zrf-ytssZb",
        "outputId": "d537b39f-8224-4ef2-9bf1-0439c4150bee"
      },
      "outputs": [
        {
          "data": {
            "text/html": [
              "<div>\n",
              "<style scoped>\n",
              "    .dataframe tbody tr th:only-of-type {\n",
              "        vertical-align: middle;\n",
              "    }\n",
              "\n",
              "    .dataframe tbody tr th {\n",
              "        vertical-align: top;\n",
              "    }\n",
              "\n",
              "    .dataframe thead th {\n",
              "        text-align: right;\n",
              "    }\n",
              "</style>\n",
              "<table border=\"1\" class=\"dataframe\">\n",
              "  <thead>\n",
              "    <tr style=\"text-align: right;\">\n",
              "      <th></th>\n",
              "      <th>tweet_text</th>\n",
              "      <th>sentiment</th>\n",
              "    </tr>\n",
              "  </thead>\n",
              "  <tbody>\n",
              "    <tr>\n",
              "      <th>0</th>\n",
              "      <td>@Laranjito76 A pessoa certa para isso seria o ...</td>\n",
              "      <td>1</td>\n",
              "    </tr>\n",
              "    <tr>\n",
              "      <th>1</th>\n",
              "      <td>@behin_d_curtain Para mim, é precisamente o co...</td>\n",
              "      <td>1</td>\n",
              "    </tr>\n",
              "    <tr>\n",
              "      <th>2</th>\n",
              "      <td>Vou fazer um video hoje... estou pensando em f...</td>\n",
              "      <td>1</td>\n",
              "    </tr>\n",
              "    <tr>\n",
              "      <th>3</th>\n",
              "      <td>aaaaaaaa amei tanto essas polaroids, nem sei e...</td>\n",
              "      <td>1</td>\n",
              "    </tr>\n",
              "    <tr>\n",
              "      <th>4</th>\n",
              "      <td>Valoriza o coração do menininho que vc tem. El...</td>\n",
              "      <td>1</td>\n",
              "    </tr>\n",
              "    <tr>\n",
              "      <th>5</th>\n",
              "      <td>@KingJokerLeto mas amiga eu to aqui ainda :)</td>\n",
              "      <td>1</td>\n",
              "    </tr>\n",
              "    <tr>\n",
              "      <th>6</th>\n",
              "      <td>@RivasJairo Bravo, Jairo!!! :)))</td>\n",
              "      <td>1</td>\n",
              "    </tr>\n",
              "    <tr>\n",
              "      <th>7</th>\n",
              "      <td>@inquilinasls @Spotify socorro ksoaksosks acho...</td>\n",
              "      <td>1</td>\n",
              "    </tr>\n",
              "    <tr>\n",
              "      <th>8</th>\n",
              "      <td>@chimekarlla gosto muito de fazenda :) , mas m...</td>\n",
              "      <td>1</td>\n",
              "    </tr>\n",
              "    <tr>\n",
              "      <th>9</th>\n",
              "      <td>Amanha vou ver venom :D</td>\n",
              "      <td>1</td>\n",
              "    </tr>\n",
              "  </tbody>\n",
              "</table>\n",
              "</div>"
            ],
            "text/plain": [
              "                                          tweet_text  sentiment\n",
              "0  @Laranjito76 A pessoa certa para isso seria o ...          1\n",
              "1  @behin_d_curtain Para mim, é precisamente o co...          1\n",
              "2  Vou fazer um video hoje... estou pensando em f...          1\n",
              "3  aaaaaaaa amei tanto essas polaroids, nem sei e...          1\n",
              "4  Valoriza o coração do menininho que vc tem. El...          1\n",
              "5       @KingJokerLeto mas amiga eu to aqui ainda :)          1\n",
              "6                   @RivasJairo Bravo, Jairo!!! :)))          1\n",
              "7  @inquilinasls @Spotify socorro ksoaksosks acho...          1\n",
              "8  @chimekarlla gosto muito de fazenda :) , mas m...          1\n",
              "9                            Amanha vou ver venom :D          1"
            ]
          },
          "execution_count": 48,
          "metadata": {},
          "output_type": "execute_result"
        }
      ],
      "source": [
        "training_database.head(10)"
      ]
    },
    {
      "cell_type": "code",
      "execution_count": 49,
      "metadata": {
        "id": "SNSsbuMis0-d"
      },
      "outputs": [],
      "source": [
        "training_database['tweet_text'] = training_database['tweet_text'].apply(preprocessing)"
      ]
    },
    {
      "cell_type": "code",
      "execution_count": 50,
      "metadata": {
        "colab": {
          "base_uri": "https://localhost:8080/",
          "height": 363
        },
        "id": "wR742NJLusfy",
        "outputId": "ccf5564e-eb6a-4737-b537-8297f3a13639"
      },
      "outputs": [
        {
          "data": {
            "text/html": [
              "<div>\n",
              "<style scoped>\n",
              "    .dataframe tbody tr th:only-of-type {\n",
              "        vertical-align: middle;\n",
              "    }\n",
              "\n",
              "    .dataframe tbody tr th {\n",
              "        vertical-align: top;\n",
              "    }\n",
              "\n",
              "    .dataframe thead th {\n",
              "        text-align: right;\n",
              "    }\n",
              "</style>\n",
              "<table border=\"1\" class=\"dataframe\">\n",
              "  <thead>\n",
              "    <tr style=\"text-align: right;\">\n",
              "      <th></th>\n",
              "      <th>tweet_text</th>\n",
              "      <th>sentiment</th>\n",
              "    </tr>\n",
              "  </thead>\n",
              "  <tbody>\n",
              "    <tr>\n",
              "      <th>0</th>\n",
              "      <td>pessoa certo parir seriar valer azevedo emoc...</td>\n",
              "      <td>1</td>\n",
              "    </tr>\n",
              "    <tr>\n",
              "      <th>1</th>\n",
              "      <td>parir mim precisamente contrário emocaoposit...</td>\n",
              "      <td>1</td>\n",
              "    </tr>\n",
              "    <tr>\n",
              "      <th>2</th>\n",
              "      <td>video hoje ... pensar falar sobrar meter csgo ...</td>\n",
              "      <td>1</td>\n",
              "    </tr>\n",
              "    <tr>\n",
              "      <th>3</th>\n",
              "      <td>aaaaaaaa amar polaroids expressar quantum to a...</td>\n",
              "      <td>1</td>\n",
              "    </tr>\n",
              "    <tr>\n",
              "      <th>4</th>\n",
              "      <td>valorizar coração menino vc diferente sorrir ❤...</td>\n",
              "      <td>1</td>\n",
              "    </tr>\n",
              "    <tr>\n",
              "      <th>5</th>\n",
              "      <td>amigo to emocaopositiva</td>\n",
              "      <td>1</td>\n",
              "    </tr>\n",
              "    <tr>\n",
              "      <th>6</th>\n",
              "      <td>bravo jairo emocaopositiva</td>\n",
              "      <td>1</td>\n",
              "    </tr>\n",
              "    <tr>\n",
              "      <th>7</th>\n",
              "      <td>socorrer ksoaksosks achar to caixa som :p</td>\n",
              "      <td>1</td>\n",
              "    </tr>\n",
              "    <tr>\n",
              "      <th>8</th>\n",
              "      <td>gostar fazenda emocaopositiva morrer medo ga...</td>\n",
              "      <td>1</td>\n",
              "    </tr>\n",
              "    <tr>\n",
              "      <th>9</th>\n",
              "      <td>amanhar venom emocaopositiva</td>\n",
              "      <td>1</td>\n",
              "    </tr>\n",
              "  </tbody>\n",
              "</table>\n",
              "</div>"
            ],
            "text/plain": [
              "                                          tweet_text  sentiment\n",
              "0    pessoa certo parir seriar valer azevedo emoc...          1\n",
              "1    parir mim precisamente contrário emocaoposit...          1\n",
              "2  video hoje ... pensar falar sobrar meter csgo ...          1\n",
              "3  aaaaaaaa amar polaroids expressar quantum to a...          1\n",
              "4  valorizar coração menino vc diferente sorrir ❤...          1\n",
              "5                            amigo to emocaopositiva          1\n",
              "6                         bravo jairo emocaopositiva          1\n",
              "7          socorrer ksoaksosks achar to caixa som :p          1\n",
              "8    gostar fazenda emocaopositiva morrer medo ga...          1\n",
              "9                       amanhar venom emocaopositiva          1"
            ]
          },
          "execution_count": 50,
          "metadata": {},
          "output_type": "execute_result"
        }
      ],
      "source": [
        "training_database.head(10)"
      ]
    },
    {
      "cell_type": "code",
      "execution_count": 51,
      "metadata": {
        "colab": {
          "base_uri": "https://localhost:8080/",
          "height": 363
        },
        "id": "jTGab2hXvGSr",
        "outputId": "cd4a549a-7bf9-4aa8-edfd-bc739264a4b7"
      },
      "outputs": [
        {
          "data": {
            "text/html": [
              "<div>\n",
              "<style scoped>\n",
              "    .dataframe tbody tr th:only-of-type {\n",
              "        vertical-align: middle;\n",
              "    }\n",
              "\n",
              "    .dataframe tbody tr th {\n",
              "        vertical-align: top;\n",
              "    }\n",
              "\n",
              "    .dataframe thead th {\n",
              "        text-align: right;\n",
              "    }\n",
              "</style>\n",
              "<table border=\"1\" class=\"dataframe\">\n",
              "  <thead>\n",
              "    <tr style=\"text-align: right;\">\n",
              "      <th></th>\n",
              "      <th>tweet_text</th>\n",
              "      <th>sentiment</th>\n",
              "    </tr>\n",
              "  </thead>\n",
              "  <tbody>\n",
              "    <tr>\n",
              "      <th>0</th>\n",
              "      <td>@Gazo1a Nossa! Muito obrigada :)</td>\n",
              "      <td>1</td>\n",
              "    </tr>\n",
              "    <tr>\n",
              "      <th>1</th>\n",
              "      <td>@BerzGamer vai pa puta que te pariu :)</td>\n",
              "      <td>1</td>\n",
              "    </tr>\n",
              "    <tr>\n",
              "      <th>2</th>\n",
              "      <td>QUER MAIS DESCONTOS? (14/08) ⭐⭐⭐⭐⭐ 🌐 Confira n...</td>\n",
              "      <td>1</td>\n",
              "    </tr>\n",
              "    <tr>\n",
              "      <th>3</th>\n",
              "      <td>EU VOU PEGAR VCS, ME AJUDEM GALERA, PELO AMOR ...</td>\n",
              "      <td>1</td>\n",
              "    </tr>\n",
              "    <tr>\n",
              "      <th>4</th>\n",
              "      <td>Estávamos em casa do Zé e eu estava a morrer d...</td>\n",
              "      <td>1</td>\n",
              "    </tr>\n",
              "    <tr>\n",
              "      <th>5</th>\n",
              "      <td>Precisa :) https://t.co/DcLGDHbjT0</td>\n",
              "      <td>1</td>\n",
              "    </tr>\n",
              "    <tr>\n",
              "      <th>6</th>\n",
              "      <td>@Jeniabreu07 mas por acaso adoro beijos e abra...</td>\n",
              "      <td>1</td>\n",
              "    </tr>\n",
              "    <tr>\n",
              "      <th>7</th>\n",
              "      <td>Solteiro s sozinho sempre :)</td>\n",
              "      <td>1</td>\n",
              "    </tr>\n",
              "    <tr>\n",
              "      <th>8</th>\n",
              "      <td>Lindezas Cortador kit Mário coleção Bia Cravol...</td>\n",
              "      <td>1</td>\n",
              "    </tr>\n",
              "    <tr>\n",
              "      <th>9</th>\n",
              "      <td>@otphurts Claro que sim :))</td>\n",
              "      <td>1</td>\n",
              "    </tr>\n",
              "  </tbody>\n",
              "</table>\n",
              "</div>"
            ],
            "text/plain": [
              "                                          tweet_text  sentiment\n",
              "0                   @Gazo1a Nossa! Muito obrigada :)          1\n",
              "1             @BerzGamer vai pa puta que te pariu :)          1\n",
              "2  QUER MAIS DESCONTOS? (14/08) ⭐⭐⭐⭐⭐ 🌐 Confira n...          1\n",
              "3  EU VOU PEGAR VCS, ME AJUDEM GALERA, PELO AMOR ...          1\n",
              "4  Estávamos em casa do Zé e eu estava a morrer d...          1\n",
              "5                 Precisa :) https://t.co/DcLGDHbjT0          1\n",
              "6  @Jeniabreu07 mas por acaso adoro beijos e abra...          1\n",
              "7                       Solteiro s sozinho sempre :)          1\n",
              "8  Lindezas Cortador kit Mário coleção Bia Cravol...          1\n",
              "9                        @otphurts Claro que sim :))          1"
            ]
          },
          "execution_count": 51,
          "metadata": {},
          "output_type": "execute_result"
        }
      ],
      "source": [
        "testing_database.head(10)"
      ]
    },
    {
      "cell_type": "code",
      "execution_count": 53,
      "metadata": {
        "id": "DI1GvLX1uyr4"
      },
      "outputs": [],
      "source": [
        "testing_database['tweet_text'] = testing_database['tweet_text'].apply(preprocessing)"
      ]
    },
    {
      "cell_type": "code",
      "execution_count": 54,
      "metadata": {},
      "outputs": [
        {
          "data": {
            "text/html": [
              "<div>\n",
              "<style scoped>\n",
              "    .dataframe tbody tr th:only-of-type {\n",
              "        vertical-align: middle;\n",
              "    }\n",
              "\n",
              "    .dataframe tbody tr th {\n",
              "        vertical-align: top;\n",
              "    }\n",
              "\n",
              "    .dataframe thead th {\n",
              "        text-align: right;\n",
              "    }\n",
              "</style>\n",
              "<table border=\"1\" class=\"dataframe\">\n",
              "  <thead>\n",
              "    <tr style=\"text-align: right;\">\n",
              "      <th></th>\n",
              "      <th>tweet_text</th>\n",
              "      <th>sentiment</th>\n",
              "    </tr>\n",
              "  </thead>\n",
              "  <tbody>\n",
              "    <tr>\n",
              "      <th>0</th>\n",
              "      <td>obrigar emocaopositiva</td>\n",
              "      <td>1</td>\n",
              "    </tr>\n",
              "    <tr>\n",
              "      <th>1</th>\n",
              "      <td>pa puta parir emocaopositiva</td>\n",
              "      <td>1</td>\n",
              "    </tr>\n",
              "    <tr>\n",
              "      <th>2</th>\n",
              "      <td>querer desconto 14/08 ⭐ ⭐ ⭐ ⭐ ⭐ 🌐 conferir lin...</td>\n",
              "      <td>1</td>\n",
              "    </tr>\n",
              "    <tr>\n",
              "      <th>3</th>\n",
              "      <td>vcs ajudar galera pelar amor butera emocaoposi...</td>\n",
              "      <td>1</td>\n",
              "    </tr>\n",
              "    <tr>\n",
              "      <th>4</th>\n",
              "      <td>casar zé morrer sono chegar casar ficar sono e...</td>\n",
              "      <td>1</td>\n",
              "    </tr>\n",
              "    <tr>\n",
              "      <th>5</th>\n",
              "      <td>preciso emocaopositiva</td>\n",
              "      <td>1</td>\n",
              "    </tr>\n",
              "    <tr>\n",
              "      <th>6</th>\n",
              "      <td>acaso adorar beijo abraço hahahahaha bue fof...</td>\n",
              "      <td>1</td>\n",
              "    </tr>\n",
              "    <tr>\n",
              "      <th>7</th>\n",
              "      <td>solteiro s emocaopositiva</td>\n",
              "      <td>1</td>\n",
              "    </tr>\n",
              "    <tr>\n",
              "      <th>8</th>\n",
              "      <td>lindeza cortador kit mário coleção bia cravol ...</td>\n",
              "      <td>1</td>\n",
              "    </tr>\n",
              "    <tr>\n",
              "      <th>9</th>\n",
              "      <td>claro emocaopositiva</td>\n",
              "      <td>1</td>\n",
              "    </tr>\n",
              "  </tbody>\n",
              "</table>\n",
              "</div>"
            ],
            "text/plain": [
              "                                          tweet_text  sentiment\n",
              "0                             obrigar emocaopositiva          1\n",
              "1                       pa puta parir emocaopositiva          1\n",
              "2  querer desconto 14/08 ⭐ ⭐ ⭐ ⭐ ⭐ 🌐 conferir lin...          1\n",
              "3  vcs ajudar galera pelar amor butera emocaoposi...          1\n",
              "4  casar zé morrer sono chegar casar ficar sono e...          1\n",
              "5                             preciso emocaopositiva          1\n",
              "6    acaso adorar beijo abraço hahahahaha bue fof...          1\n",
              "7                          solteiro s emocaopositiva          1\n",
              "8  lindeza cortador kit mário coleção bia cravol ...          1\n",
              "9                               claro emocaopositiva          1"
            ]
          },
          "execution_count": 54,
          "metadata": {},
          "output_type": "execute_result"
        }
      ],
      "source": [
        "testing_database.head(10)"
      ]
    },
    {
      "cell_type": "markdown",
      "metadata": {
        "id": "trA39YO4PcFp"
      },
      "source": [
        "### Tratamento da classe"
      ]
    },
    {
      "cell_type": "code",
      "execution_count": 55,
      "metadata": {
        "id": "SPPY0MlIYoTR"
      },
      "outputs": [],
      "source": [
        "exemple_database = [[\"este trabalho é agradável\", {\"POSITIVO\": True, \"NEGATIVO\": False}],\n",
        "                    [\"este lugar continua assustador\", {\"POSITIVO\": False, \"NEGATIVO\": True}]]"
      ]
    },
    {
      "cell_type": "code",
      "execution_count": 56,
      "metadata": {
        "id": "TH31QeqEyrub"
      },
      "outputs": [],
      "source": [
        "final_training_database = []\n",
        "\n",
        "for text, emotion in zip(training_database['tweet_text'], training_database['sentiment']):\n",
        "  if emotion == 1:\n",
        "    dic = ({'POSITIVO': True, 'NEGATIVO': False})\n",
        "  elif emotion == 0:\n",
        "    dic = ({'POSITIVO': False, 'NEGATIVO': True})\n",
        "\n",
        "  final_training_database.append([text, dic.copy()])"
      ]
    },
    {
      "cell_type": "code",
      "execution_count": 58,
      "metadata": {
        "colab": {
          "base_uri": "https://localhost:8080/"
        },
        "id": "kwFKyNZM2TFj",
        "outputId": "8a87a805-4c0e-4727-e9cc-963a2828b7f4"
      },
      "outputs": [
        {
          "data": {
            "text/plain": [
              "50000"
            ]
          },
          "execution_count": 58,
          "metadata": {},
          "output_type": "execute_result"
        }
      ],
      "source": [
        "len(final_training_database)"
      ]
    },
    {
      "cell_type": "code",
      "execution_count": 59,
      "metadata": {
        "colab": {
          "base_uri": "https://localhost:8080/"
        },
        "id": "E8C-_9AB2fEM",
        "outputId": "884b04a0-b0ff-4337-df15-37808ee6f891"
      },
      "outputs": [
        {
          "data": {
            "text/plain": [
              "[['menino pijama listrar filmar triste mundo estruturar nenhum pra assistir rever to pensar nisso emocaonegativa',\n",
              "  {'POSITIVO': False, 'NEGATIVO': True}],\n",
              " ['pra vídeo luísa raiz poliana infelizmente twitter tá ruim amanhã postar emocaonegativa asaventurasdepoliana099',\n",
              "  {'POSITIVO': False, 'NEGATIVO': True}],\n",
              " ['to crise abstinência strangers emocaonegativa — tbm :/ to',\n",
              "  {'POSITIVO': False, 'NEGATIVO': True}],\n",
              " ['  esquecer olhar pra pagar mensalidade turma pro cursar querer emocaonegativa',\n",
              "  {'POSITIVO': False, 'NEGATIVO': True}],\n",
              " ['querer comer doce comer montar hoje emocaonegativa maldição',\n",
              "  {'POSITIVO': False, 'NEGATIVO': True}],\n",
              " ['amigar emocaonegativa sacooooooooooooo deus medo vdd',\n",
              "  {'POSITIVO': False, 'NEGATIVO': True}],\n",
              " ['  affffffffff esquecer emocaonegativa nervosismo ta foder',\n",
              "  {'POSITIVO': False, 'NEGATIVO': True}],\n",
              " ['chorar emocaonegativa “ amar “ tornar pro sentir querer proteger feliz algum formar vidar nado importar vidar',\n",
              "  {'POSITIVO': False, 'NEGATIVO': True}],\n",
              " ['  obrigar umar caneta pincel pentel vender ganhar umar amigo pro japão trazer emocaonegativa',\n",
              "  {'POSITIVO': False, 'NEGATIVO': True}],\n",
              " ['  ficar chocar p pessoa gostar criar expectativa emocaonegativa',\n",
              "  {'POSITIVO': False, 'NEGATIVO': True}]]"
            ]
          },
          "execution_count": 59,
          "metadata": {},
          "output_type": "execute_result"
        }
      ],
      "source": [
        "final_training_database[45000:45010]"
      ]
    },
    {
      "cell_type": "markdown",
      "metadata": {
        "id": "5mc19ZByUNsu"
      },
      "source": [
        "## 5 Model creation"
      ]
    },
    {
      "cell_type": "code",
      "execution_count": null,
      "metadata": {
        "id": "YnZ1orji7Iv8"
      },
      "outputs": [],
      "source": [
        "twitter_model = spacy.blank('pt')\n",
        "\n",
        "categories = twitter_model.create_pipe(\"textcat\")\n",
        "categories.add_label(\"POSITIVO\")\n",
        "categories.add_label(\"NEGATIVO\")\n",
        "\n",
        "twitter_model.add_pipe(categories)\n",
        "\n",
        "history = []"
      ]
    },
    {
      "cell_type": "code",
      "execution_count": 33,
      "metadata": {
        "colab": {
          "base_uri": "https://localhost:8080/"
        },
        "id": "3jlGvLEz764Y",
        "outputId": "b60cbfc1-bbc9-4cbd-bced-c27ff62764d8"
      },
      "outputs": [
        {
          "name": "stdout",
          "output_type": "stream",
          "text": [
            "{'textcat': 2.0689007767416e-05}\n",
            "{'textcat': 1.9863372724068795e-07}\n",
            "{'textcat': 1.219823800909653e-08}\n",
            "{'textcat': 9.746512851351377e-10}\n"
          ]
        }
      ],
      "source": [
        "twitter_model.begin_training()\n",
        "\n",
        "for era in range(20):\n",
        "  random.shuffle(final_training_database)\n",
        "  losses = {}\n",
        "\n",
        "  for batch in spacy.util.minibatch(final_training_database, 512):\n",
        "\n",
        "    texts = [twitter_model(text) for text, entities in batch]\n",
        "    annotations = [{'cats': entities} for text, entities in batch]\n",
        "\n",
        "    twitter_model.update(texts, annotations, losses=losses)\n",
        "    history.append(losses)\n",
        "\n",
        "  if era % 5 == 0:\n",
        "    print(losses)"
      ]
    },
    {
      "cell_type": "code",
      "execution_count": 35,
      "metadata": {
        "colab": {
          "base_uri": "https://localhost:8080/"
        },
        "id": "ShJhtbYtAr50",
        "outputId": "e43de8ac-a57f-4e3b-e686-daec743ac35c"
      },
      "outputs": [
        {
          "data": {
            "text/plain": [
              "array([2.06890078e-05, 2.06890078e-05, 2.06890078e-05, ...,\n",
              "       5.61924317e-10, 5.61924317e-10, 5.61924317e-10])"
            ]
          },
          "execution_count": 35,
          "metadata": {},
          "output_type": "execute_result"
        }
      ],
      "source": [
        "history_loss = []\n",
        "for i in history:\n",
        "  history_loss.append(i.get('textcat'))\n",
        "\n",
        "history_loss = np.array(history_loss)\n",
        "history_loss"
      ]
    },
    {
      "cell_type": "code",
      "execution_count": 36,
      "metadata": {
        "colab": {
          "base_uri": "https://localhost:8080/",
          "height": 312
        },
        "id": "6lEL-QoBA0KI",
        "outputId": "4f76b8fd-292e-48f9-beec-e593ddf69aec"
      },
      "outputs": [
        {
          "data": {
            "text/plain": [
              "Text(0, 0.5, 'Erro')"
            ]
          },
          "execution_count": 36,
          "metadata": {},
          "output_type": "execute_result"
        },
        {
          "data": {
            "image/png": "[encoded data removed]",
            "text/plain": [
              "<Figure size 640x480 with 1 Axes>"
            ]
          },
          "metadata": {},
          "output_type": "display_data"
        }
      ],
      "source": [
        "plt.plot(history_loss)\n",
        "plt.title('Progressão do erro')\n",
        "plt.xlabel('Batches')\n",
        "plt.ylabel('Erro')"
      ]
    },
    {
      "cell_type": "code",
      "execution_count": 37,
      "metadata": {
        "id": "amNE8xy_BPSF"
      },
      "outputs": [],
      "source": [
        "twitter_model.to_disk(\"../models/twitter_model\")"
      ]
    },
    {
      "cell_type": "markdown",
      "metadata": {
        "id": "ePMk8G0Dl6wg"
      },
      "source": [
        "## 6 Tests with a sentence"
      ]
    },
    {
      "cell_type": "code",
      "execution_count": 60,
      "metadata": {
        "colab": {
          "base_uri": "https://localhost:8080/"
        },
        "id": "W-7DO-DoAyPU",
        "outputId": "e26b3ec0-18a4-4f63-adc9-e6454bdafbcf"
      },
      "outputs": [
        {
          "data": {
            "text/plain": [
              "<spacy.lang.pt.Portuguese at 0x7fdc18ccbcd0>"
            ]
          },
          "execution_count": 60,
          "metadata": {},
          "output_type": "execute_result"
        }
      ],
      "source": [
        "twitter_model = spacy.load('../models/twitter_model')\n",
        "twitter_model"
      ]
    },
    {
      "cell_type": "markdown",
      "metadata": {
        "id": "RZxpVOP4wJT9"
      },
      "source": [
        "### Positive text"
      ]
    },
    {
      "cell_type": "code",
      "execution_count": 61,
      "metadata": {
        "colab": {
          "base_uri": "https://localhost:8080/",
          "height": 35
        },
        "id": "fGB9HS7BBEK2",
        "outputId": "66ea22fc-39f2-4609-8e41-203600068a7f"
      },
      "outputs": [
        {
          "data": {
            "text/plain": [
              "'  ficar feliz q recíproco emocaopositiva'"
            ]
          },
          "execution_count": 61,
          "metadata": {},
          "output_type": "execute_result"
        }
      ],
      "source": [
        "positive_text = testing_database['tweet_text'][21]\n",
        "positive_text"
      ]
    },
    {
      "cell_type": "code",
      "execution_count": 62,
      "metadata": {
        "colab": {
          "base_uri": "https://localhost:8080/"
        },
        "id": "NRJW5li7Bpij",
        "outputId": "2a5cf983-2143-413f-fe0f-28174b99162f"
      },
      "outputs": [
        {
          "data": {
            "text/plain": [
              "  ficar feliz q recíproco emocaopositiva"
            ]
          },
          "execution_count": 62,
          "metadata": {},
          "output_type": "execute_result"
        }
      ],
      "source": [
        "prediction = twitter_model(positive_text)\n",
        "prediction"
      ]
    },
    {
      "cell_type": "code",
      "execution_count": 63,
      "metadata": {
        "colab": {
          "base_uri": "https://localhost:8080/"
        },
        "id": "_XtuIsoMBuz8",
        "outputId": "092768c4-99d5-4022-ab04-f70a121bc38c"
      },
      "outputs": [
        {
          "data": {
            "text/plain": [
              "{'POSITIVO': 0.9999158382415771, 'NEGATIVO': 4.539786823443137e-05}"
            ]
          },
          "execution_count": 63,
          "metadata": {},
          "output_type": "execute_result"
        }
      ],
      "source": [
        "prediction.cats"
      ]
    },
    {
      "cell_type": "code",
      "execution_count": 64,
      "metadata": {
        "colab": {
          "base_uri": "https://localhost:8080/",
          "height": 35
        },
        "id": "wKdZht7PB1cJ",
        "outputId": "cb15efc4-b173-45d8-cba7-49035ec3ab53"
      },
      "outputs": [
        {
          "data": {
            "text/plain": [
              "'gostar'"
            ]
          },
          "execution_count": 64,
          "metadata": {},
          "output_type": "execute_result"
        }
      ],
      "source": [
        "positive_text = 'eu gosto muito de você'\n",
        "positive_text = preprocessing(positive_text)\n",
        "positive_text"
      ]
    },
    {
      "cell_type": "code",
      "execution_count": 65,
      "metadata": {
        "colab": {
          "base_uri": "https://localhost:8080/"
        },
        "id": "GFDF7coVCC4c",
        "outputId": "8f89dcfb-fa09-47ce-aaaf-2de82f2102db"
      },
      "outputs": [
        {
          "data": {
            "text/plain": [
              "{'POSITIVO': 0.19201865792274475, 'NEGATIVO': 0.5292957425117493}"
            ]
          },
          "execution_count": 65,
          "metadata": {},
          "output_type": "execute_result"
        }
      ],
      "source": [
        "twitter_model(positive_text).cats"
      ]
    },
    {
      "cell_type": "markdown",
      "metadata": {
        "id": "eavhsiJ4weg6"
      },
      "source": [
        "### Negative text"
      ]
    },
    {
      "cell_type": "code",
      "execution_count": 66,
      "metadata": {
        "colab": {
          "base_uri": "https://localhost:8080/",
          "height": 35
        },
        "id": "Luyzv_ZcCY9p",
        "outputId": "3a325acb-c764-47a9-b4cb-23a1649bcb63"
      },
      "outputs": [
        {
          "data": {
            "text/plain": [
              "'tô triste filmar mulan mushu emocaonegativa'"
            ]
          },
          "execution_count": 66,
          "metadata": {},
          "output_type": "execute_result"
        }
      ],
      "source": [
        "testing_database['tweet_text'][4000]"
      ]
    },
    {
      "cell_type": "code",
      "execution_count": 67,
      "metadata": {
        "colab": {
          "base_uri": "https://localhost:8080/"
        },
        "id": "GgpAm0JFCggN",
        "outputId": "0338a89b-d462-434b-cb99-1523e49c743a"
      },
      "outputs": [
        {
          "data": {
            "text/plain": [
              "{'POSITIVO': 0.9999158382415771, 'NEGATIVO': 4.539786823443137e-05}"
            ]
          },
          "execution_count": 67,
          "metadata": {},
          "output_type": "execute_result"
        }
      ],
      "source": [
        "negative_text = testing_database['tweet_text'][4000]\n",
        "previsao = twitter_model(negative_text)\n",
        "prediction.cats"
      ]
    },
    {
      "cell_type": "markdown",
      "metadata": {
        "id": "KhF2vtEsnlpM"
      },
      "source": [
        "## 7 Model evaluation"
      ]
    },
    {
      "cell_type": "markdown",
      "metadata": {
        "id": "sJzwpVWNACFi"
      },
      "source": [
        "### Training set evaluation"
      ]
    },
    {
      "cell_type": "code",
      "execution_count": 68,
      "metadata": {
        "id": "6NoTHRADDZ0Z"
      },
      "outputs": [
        {
          "data": {
            "text/plain": [
              "[{'POSITIVO': 0.99989914894104, 'NEGATIVO': 4.539786823443137e-05},\n",
              " {'POSITIVO': 0.9998506307601929, 'NEGATIVO': 5.190150477574207e-05},\n",
              " {'POSITIVO': 0.9999545812606812, 'NEGATIVO': 5.554382732952945e-05},\n",
              " {'POSITIVO': 0.9999336004257202, 'NEGATIVO': 6.595798186026514e-05},\n",
              " {'POSITIVO': 0.9999545812606812, 'NEGATIVO': 4.539786823443137e-05},\n",
              " {'POSITIVO': 0.9997230172157288, 'NEGATIVO': 4.539786823443137e-05},\n",
              " {'POSITIVO': 0.9998440742492676, 'NEGATIVO': 4.539786823443137e-05},\n",
              " {'POSITIVO': 0.9999545812606812, 'NEGATIVO': 5.846551721333526e-05},\n",
              " {'POSITIVO': 0.9999003410339355, 'NEGATIVO': 5.560557474382222e-05},\n",
              " {'POSITIVO': 0.9996211528778076, 'NEGATIVO': 4.539786823443137e-05},\n",
              " {'POSITIVO': 0.9999315738677979, 'NEGATIVO': 4.539786823443137e-05},\n",
              " {'POSITIVO': 0.9999427795410156, 'NEGATIVO': 4.539786823443137e-05},\n",
              " {'POSITIVO': 0.999915599822998, 'NEGATIVO': 4.539786823443137e-05},\n",
              " {'POSITIVO': 0.9997450709342957, 'NEGATIVO': 4.539786823443137e-05},\n",
              " {'POSITIVO': 0.9999545812606812, 'NEGATIVO': 5.309432162903249e-05},\n",
              " {'POSITIVO': 0.9999545812606812, 'NEGATIVO': 4.9657104682410136e-05},\n",
              " {'POSITIVO': 0.9998270869255066, 'NEGATIVO': 4.539786823443137e-05},\n",
              " {'POSITIVO': 0.9999337196350098, 'NEGATIVO': 7.516952609876171e-05},\n",
              " {'POSITIVO': 0.9992392063140869, 'NEGATIVO': 0.00011936479131691158},\n",
              " {'POSITIVO': 0.9998329877853394, 'NEGATIVO': 4.539786823443137e-05},\n",
              " {'POSITIVO': 0.9999494552612305, 'NEGATIVO': 4.539786823443137e-05},\n",
              " {'POSITIVO': 0.9999194145202637, 'NEGATIVO': 4.539786823443137e-05},\n",
              " {'POSITIVO': 0.9999228715896606, 'NEGATIVO': 4.539786823443137e-05},\n",
              " {'POSITIVO': 0.999855637550354, 'NEGATIVO': 4.539786823443137e-05},\n",
              " {'POSITIVO': 0.9999415874481201, 'NEGATIVO': 5.664002674166113e-05},\n",
              " {'POSITIVO': 0.999843955039978, 'NEGATIVO': 4.539786823443137e-05},\n",
              " {'POSITIVO': 0.9999545812606812, 'NEGATIVO': 0.00012248862185515463},\n",
              " {'POSITIVO': 0.9999147653579712, 'NEGATIVO': 0.00015983219782356173},\n",
              " {'POSITIVO': 0.9999071359634399, 'NEGATIVO': 4.539786823443137e-05},\n",
              " {'POSITIVO': 0.999944806098938, 'NEGATIVO': 5.632637476082891e-05},\n",
              " {'POSITIVO': 0.999923586845398, 'NEGATIVO': 4.539786823443137e-05},\n",
              " {'POSITIVO': 0.9999072551727295, 'NEGATIVO': 4.539786823443137e-05},\n",
              " {'POSITIVO': 0.999864935874939, 'NEGATIVO': 4.539786823443137e-05},\n",
              " {'POSITIVO': 0.9999181032180786, 'NEGATIVO': 4.539786823443137e-05},\n",
              " {'POSITIVO': 0.9998475313186646, 'NEGATIVO': 4.539786823443137e-05},\n",
              " {'POSITIVO': 0.9998782873153687, 'NEGATIVO': 6.21831786702387e-05},\n",
              " {'POSITIVO': 0.9999072551727295, 'NEGATIVO': 4.539786823443137e-05},\n",
              " {'POSITIVO': 0.9999158382415771, 'NEGATIVO': 4.539786823443137e-05},\n",
              " {'POSITIVO': 0.999916672706604, 'NEGATIVO': 4.539786823443137e-05},\n",
              " {'POSITIVO': 0.9997441172599792, 'NEGATIVO': 0.00029038224602118134},\n",
              " {'POSITIVO': 0.9999395608901978, 'NEGATIVO': 8.321450150106102e-05},\n",
              " {'POSITIVO': 0.999919056892395, 'NEGATIVO': 4.539786823443137e-05},\n",
              " {'POSITIVO': 0.999951958656311, 'NEGATIVO': 0.00021194899454712868},\n",
              " {'POSITIVO': 0.9998631477355957, 'NEGATIVO': 4.539786823443137e-05},\n",
              " {'POSITIVO': 0.9999148845672607, 'NEGATIVO': 7.96641907072626e-05},\n",
              " {'POSITIVO': 0.9998555183410645, 'NEGATIVO': 4.539786823443137e-05},\n",
              " {'POSITIVO': 0.9999545812606812, 'NEGATIVO': 0.000126337050460279},\n",
              " {'POSITIVO': 0.999893069267273, 'NEGATIVO': 4.539786823443137e-05},\n",
              " {'POSITIVO': 0.9998144507408142, 'NEGATIVO': 4.539786823443137e-05},\n",
              " {'POSITIVO': 0.999897837638855, 'NEGATIVO': 4.5920365664642304e-05},\n",
              " {'POSITIVO': 0.9995878338813782, 'NEGATIVO': 0.00012776502990163863},\n",
              " {'POSITIVO': 0.999935507774353, 'NEGATIVO': 8.566516044083983e-05},\n",
              " {'POSITIVO': 0.9998506307601929, 'NEGATIVO': 4.539786823443137e-05},\n",
              " {'POSITIVO': 0.9999254941940308, 'NEGATIVO': 0.00014301024202723056},\n",
              " {'POSITIVO': 0.9998867511749268, 'NEGATIVO': 4.539786823443137e-05},\n",
              " {'POSITIVO': 0.9999520778656006, 'NEGATIVO': 4.539786823443137e-05},\n",
              " {'POSITIVO': 0.9997598528862, 'NEGATIVO': 4.539786823443137e-05},\n",
              " {'POSITIVO': 0.9998397827148438, 'NEGATIVO': 4.539786823443137e-05},\n",
              " {'POSITIVO': 0.9999492168426514, 'NEGATIVO': 4.539786823443137e-05},\n",
              " {'POSITIVO': 0.999914288520813, 'NEGATIVO': 4.539786823443137e-05},\n",
              " {'POSITIVO': 0.9999545812606812, 'NEGATIVO': 4.539786823443137e-05},\n",
              " {'POSITIVO': 0.9999004602432251, 'NEGATIVO': 5.891482578590512e-05},\n",
              " {'POSITIVO': 0.9999018907546997, 'NEGATIVO': 4.539786823443137e-05},\n",
              " {'POSITIVO': 0.9998168349266052, 'NEGATIVO': 4.539786823443137e-05},\n",
              " {'POSITIVO': 0.9973892569541931, 'NEGATIVO': 0.0002931556082330644},\n",
              " {'POSITIVO': 0.9999270439147949, 'NEGATIVO': 4.869842086918652e-05},\n",
              " {'POSITIVO': 0.9998980760574341, 'NEGATIVO': 4.539786823443137e-05},\n",
              " {'POSITIVO': 0.9998952150344849, 'NEGATIVO': 4.539786823443137e-05},\n",
              " {'POSITIVO': 0.9999394416809082, 'NEGATIVO': 6.274471525102854e-05},\n",
              " {'POSITIVO': 0.9998544454574585, 'NEGATIVO': 4.539786823443137e-05},\n",
              " {'POSITIVO': 0.9999545812606812, 'NEGATIVO': 4.539786823443137e-05},\n",
              " {'POSITIVO': 0.9998478889465332, 'NEGATIVO': 4.539786823443137e-05},\n",
              " {'POSITIVO': 0.9999111890792847, 'NEGATIVO': 4.9240767111768946e-05},\n",
              " {'POSITIVO': 0.9999135732650757, 'NEGATIVO': 4.539786823443137e-05},\n",
              " {'POSITIVO': 0.9999456405639648, 'NEGATIVO': 4.539786823443137e-05},\n",
              " {'POSITIVO': 0.9999018907546997, 'NEGATIVO': 4.539786823443137e-05},\n",
              " {'POSITIVO': 0.9999545812606812, 'NEGATIVO': 0.00015135161811485887},\n",
              " {'POSITIVO': 0.9998065829277039, 'NEGATIVO': 4.539786823443137e-05},\n",
              " {'POSITIVO': 0.9999212026596069, 'NEGATIVO': 4.539786823443137e-05},\n",
              " {'POSITIVO': 0.9996867179870605, 'NEGATIVO': 4.539786823443137e-05},\n",
              " {'POSITIVO': 0.9999231100082397, 'NEGATIVO': 4.539786823443137e-05},\n",
              " {'POSITIVO': 0.9999003410339355, 'NEGATIVO': 4.550900848698802e-05},\n",
              " {'POSITIVO': 0.9999003410339355, 'NEGATIVO': 4.539786823443137e-05},\n",
              " {'POSITIVO': 0.9999545812606812, 'NEGATIVO': 4.539786823443137e-05},\n",
              " {'POSITIVO': 0.9999170303344727, 'NEGATIVO': 4.539786823443137e-05},\n",
              " {'POSITIVO': 0.9998735189437866, 'NEGATIVO': 4.539786823443137e-05},\n",
              " {'POSITIVO': 0.9999167919158936, 'NEGATIVO': 4.539786823443137e-05},\n",
              " {'POSITIVO': 0.998218834400177, 'NEGATIVO': 0.0001398792810505256},\n",
              " {'POSITIVO': 0.9998652935028076, 'NEGATIVO': 0.0003299912787042558},\n",
              " {'POSITIVO': 0.9999492168426514, 'NEGATIVO': 4.539786823443137e-05},\n",
              " {'POSITIVO': 0.9999113082885742, 'NEGATIVO': 4.539786823443137e-05},\n",
              " {'POSITIVO': 0.9998804330825806, 'NEGATIVO': 5.1761482609435916e-05},\n",
              " {'POSITIVO': 0.9999281167984009, 'NEGATIVO': 0.00019052809511777014},\n",
              " {'POSITIVO': 0.999941349029541, 'NEGATIVO': 4.7002969949971884e-05},\n",
              " {'POSITIVO': 0.9999098777770996, 'NEGATIVO': 4.539786823443137e-05},\n",
              " {'POSITIVO': 0.9995693564414978, 'NEGATIVO': 7.786977221257985e-05},\n",
              " {'POSITIVO': 0.9999425411224365, 'NEGATIVO': 7.140872912714258e-05},\n",
              " {'POSITIVO': 0.9998830556869507, 'NEGATIVO': 4.539786823443137e-05},\n",
              " {'POSITIVO': 0.9999426603317261, 'NEGATIVO': 9.811258496483788e-05},\n",
              " {'POSITIVO': 0.9999423027038574, 'NEGATIVO': 4.539786823443137e-05},\n",
              " {'POSITIVO': 0.9999043941497803, 'NEGATIVO': 0.0002742360229603946},\n",
              " {'POSITIVO': 0.9999072551727295, 'NEGATIVO': 4.539786823443137e-05},\n",
              " {'POSITIVO': 0.9999408721923828, 'NEGATIVO': 6.766409205738455e-05},\n",
              " {'POSITIVO': 0.9999157190322876, 'NEGATIVO': 4.539786823443137e-05},\n",
              " {'POSITIVO': 0.9997692704200745, 'NEGATIVO': 0.00016636669170111418},\n",
              " {'POSITIVO': 0.9999148845672607, 'NEGATIVO': 4.539786823443137e-05},\n",
              " {'POSITIVO': 0.9998685121536255, 'NEGATIVO': 0.00011976416135439649},\n",
              " {'POSITIVO': 0.9998182654380798, 'NEGATIVO': 4.539786823443137e-05},\n",
              " {'POSITIVO': 0.9998061060905457, 'NEGATIVO': 4.539786823443137e-05},\n",
              " {'POSITIVO': 0.9998433589935303, 'NEGATIVO': 5.358363705454394e-05},\n",
              " {'POSITIVO': 0.999944806098938, 'NEGATIVO': 4.539786823443137e-05},\n",
              " {'POSITIVO': 0.9990577101707458, 'NEGATIVO': 5.255505311652087e-05},\n",
              " {'POSITIVO': 0.9999470710754395, 'NEGATIVO': 0.00024165268405340612},\n",
              " {'POSITIVO': 0.9999545812606812, 'NEGATIVO': 4.539786823443137e-05},\n",
              " {'POSITIVO': 0.9999103546142578, 'NEGATIVO': 4.539786823443137e-05},\n",
              " {'POSITIVO': 0.9999339580535889, 'NEGATIVO': 0.00015479096327908337},\n",
              " {'POSITIVO': 0.999862551689148, 'NEGATIVO': 4.539786823443137e-05},\n",
              " {'POSITIVO': 0.9999194145202637, 'NEGATIVO': 5.511002746061422e-05},\n",
              " {'POSITIVO': 0.99994957447052, 'NEGATIVO': 4.539786823443137e-05},\n",
              " {'POSITIVO': 0.9998890161514282, 'NEGATIVO': 0.0001598038652446121},\n",
              " {'POSITIVO': 0.9998216032981873, 'NEGATIVO': 4.539786823443137e-05},\n",
              " {'POSITIVO': 0.9996346235275269, 'NEGATIVO': 4.539786823443137e-05},\n",
              " {'POSITIVO': 0.9999494552612305, 'NEGATIVO': 4.539786823443137e-05},\n",
              " {'POSITIVO': 0.9998077750205994, 'NEGATIVO': 4.9638882046565413e-05},\n",
              " {'POSITIVO': 0.9980934262275696, 'NEGATIVO': 0.0011684431228786707},\n",
              " {'POSITIVO': 0.9998615980148315, 'NEGATIVO': 4.539786823443137e-05},\n",
              " {'POSITIVO': 0.9999545812606812, 'NEGATIVO': 4.539786823443137e-05},\n",
              " {'POSITIVO': 0.999818742275238, 'NEGATIVO': 4.539786823443137e-05},\n",
              " {'POSITIVO': 0.9999054670333862, 'NEGATIVO': 4.539786823443137e-05},\n",
              " {'POSITIVO': 0.9998762607574463, 'NEGATIVO': 4.900514250039123e-05},\n",
              " {'POSITIVO': 0.9997772574424744, 'NEGATIVO': 4.539786823443137e-05},\n",
              " {'POSITIVO': 0.9997665286064148, 'NEGATIVO': 4.539786823443137e-05},\n",
              " {'POSITIVO': 0.9999029636383057, 'NEGATIVO': 4.539786823443137e-05},\n",
              " {'POSITIVO': 0.9999226331710815, 'NEGATIVO': 4.539786823443137e-05},\n",
              " {'POSITIVO': 0.9999048709869385, 'NEGATIVO': 4.539786823443137e-05},\n",
              " {'POSITIVO': 0.9999048709869385, 'NEGATIVO': 4.539786823443137e-05},\n",
              " {'POSITIVO': 0.9998840093612671, 'NEGATIVO': 4.539786823443137e-05},\n",
              " {'POSITIVO': 0.9999457597732544, 'NEGATIVO': 4.539786823443137e-05},\n",
              " {'POSITIVO': 0.999894380569458, 'NEGATIVO': 4.539786823443137e-05},\n",
              " {'POSITIVO': 0.9999436140060425, 'NEGATIVO': 5.186766793485731e-05},\n",
              " {'POSITIVO': 0.9998025298118591, 'NEGATIVO': 4.539786823443137e-05},\n",
              " {'POSITIVO': 0.9997690320014954, 'NEGATIVO': 4.539786823443137e-05},\n",
              " {'POSITIVO': 0.9999047517776489, 'NEGATIVO': 4.539786823443137e-05},\n",
              " {'POSITIVO': 0.9999511241912842, 'NEGATIVO': 4.544724652078003e-05},\n",
              " {'POSITIVO': 0.9998726844787598, 'NEGATIVO': 4.539786823443137e-05},\n",
              " {'POSITIVO': 0.9999096393585205, 'NEGATIVO': 4.539786823443137e-05},\n",
              " {'POSITIVO': 0.9998724460601807, 'NEGATIVO': 6.70291919959709e-05},\n",
              " {'POSITIVO': 0.9997678399085999, 'NEGATIVO': 4.539786823443137e-05},\n",
              " {'POSITIVO': 0.9999018907546997, 'NEGATIVO': 4.539786823443137e-05},\n",
              " {'POSITIVO': 0.9999412298202515, 'NEGATIVO': 5.408097422332503e-05},\n",
              " {'POSITIVO': 0.9997883439064026, 'NEGATIVO': 4.539786823443137e-05},\n",
              " {'POSITIVO': 0.999776303768158, 'NEGATIVO': 0.0006517838919535279},\n",
              " {'POSITIVO': 0.9998588562011719, 'NEGATIVO': 4.539786823443137e-05},\n",
              " {'POSITIVO': 0.9999545812606812, 'NEGATIVO': 0.0005627230275422335},\n",
              " {'POSITIVO': 0.9999502897262573, 'NEGATIVO': 5.327822873368859e-05},\n",
              " {'POSITIVO': 0.9998666048049927, 'NEGATIVO': 4.539786823443137e-05},\n",
              " {'POSITIVO': 0.9987190961837769, 'NEGATIVO': 0.00255732424557209},\n",
              " {'POSITIVO': 0.9998216032981873, 'NEGATIVO': 4.539786823443137e-05},\n",
              " {'POSITIVO': 0.9970592260360718, 'NEGATIVO': 0.011861086823046207},\n",
              " {'POSITIVO': 0.999950647354126, 'NEGATIVO': 4.539786823443137e-05},\n",
              " {'POSITIVO': 0.9997037053108215, 'NEGATIVO': 4.539786823443137e-05},\n",
              " {'POSITIVO': 0.99993896484375, 'NEGATIVO': 0.00015407059981953353},\n",
              " {'POSITIVO': 0.9998724460601807, 'NEGATIVO': 4.539786823443137e-05},\n",
              " {'POSITIVO': 0.9999545812606812, 'NEGATIVO': 4.539786823443137e-05},\n",
              " {'POSITIVO': 0.9991933703422546, 'NEGATIVO': 0.0003569129330571741},\n",
              " {'POSITIVO': 0.999858021736145, 'NEGATIVO': 4.539786823443137e-05},\n",
              " {'POSITIVO': 0.9999252557754517, 'NEGATIVO': 4.539786823443137e-05},\n",
              " {'POSITIVO': 0.9998270869255066, 'NEGATIVO': 4.539786823443137e-05},\n",
              " {'POSITIVO': 0.9999456405639648, 'NEGATIVO': 4.656844976125285e-05},\n",
              " {'POSITIVO': 0.9998904466629028, 'NEGATIVO': 0.00022142314992379397},\n",
              " {'POSITIVO': 0.9999347925186157, 'NEGATIVO': 0.0001322892348980531},\n",
              " {'POSITIVO': 0.9997847676277161, 'NEGATIVO': 4.539786823443137e-05},\n",
              " {'POSITIVO': 0.999698281288147, 'NEGATIVO': 0.00014991128409747034},\n",
              " {'POSITIVO': 0.9998824596405029, 'NEGATIVO': 4.539786823443137e-05},\n",
              " {'POSITIVO': 0.9999161958694458, 'NEGATIVO': 4.539786823443137e-05},\n",
              " {'POSITIVO': 0.9998816251754761, 'NEGATIVO': 5.067601887276396e-05},\n",
              " {'POSITIVO': 0.9999545812606812, 'NEGATIVO': 6.34148163953796e-05},\n",
              " {'POSITIVO': 0.9998146891593933, 'NEGATIVO': 5.2795516239712015e-05},\n",
              " {'POSITIVO': 0.9999121427536011, 'NEGATIVO': 5.410764060798101e-05},\n",
              " {'POSITIVO': 0.9998493194580078, 'NEGATIVO': 4.539786823443137e-05},\n",
              " {'POSITIVO': 0.999948263168335, 'NEGATIVO': 5.172097007744014e-05},\n",
              " {'POSITIVO': 0.999693751335144, 'NEGATIVO': 4.539786823443137e-05},\n",
              " {'POSITIVO': 0.9998389482498169, 'NEGATIVO': 4.539786823443137e-05},\n",
              " {'POSITIVO': 0.999924898147583, 'NEGATIVO': 4.539786823443137e-05},\n",
              " {'POSITIVO': 0.9999409914016724, 'NEGATIVO': 4.539786823443137e-05},\n",
              " {'POSITIVO': 0.9998733997344971, 'NEGATIVO': 6.0595495597226545e-05},\n",
              " {'POSITIVO': 0.9999032020568848, 'NEGATIVO': 4.539786823443137e-05},\n",
              " {'POSITIVO': 0.999860405921936, 'NEGATIVO': 4.539786823443137e-05},\n",
              " {'POSITIVO': 0.9999129772186279, 'NEGATIVO': 4.539786823443137e-05},\n",
              " {'POSITIVO': 0.9997814297676086, 'NEGATIVO': 9.885335748549551e-05},\n",
              " {'POSITIVO': 0.9998151659965515, 'NEGATIVO': 4.539786823443137e-05},\n",
              " {'POSITIVO': 0.9999114274978638, 'NEGATIVO': 4.8515557864448056e-05},\n",
              " {'POSITIVO': 0.9999175071716309, 'NEGATIVO': 4.539786823443137e-05},\n",
              " {'POSITIVO': 0.9999207258224487, 'NEGATIVO': 4.989644367014989e-05},\n",
              " {'POSITIVO': 0.99994957447052, 'NEGATIVO': 4.539786823443137e-05},\n",
              " {'POSITIVO': 0.9999545812606812, 'NEGATIVO': 4.539786823443137e-05},\n",
              " {'POSITIVO': 0.9997569918632507, 'NEGATIVO': 4.539786823443137e-05},\n",
              " {'POSITIVO': 0.9999545812606812, 'NEGATIVO': 4.539786823443137e-05},\n",
              " {'POSITIVO': 0.9998866319656372, 'NEGATIVO': 4.565401468425989e-05},\n",
              " {'POSITIVO': 0.9998624324798584, 'NEGATIVO': 5.330170097295195e-05},\n",
              " {'POSITIVO': 0.9998877048492432, 'NEGATIVO': 4.788095611729659e-05},\n",
              " {'POSITIVO': 0.9998323917388916, 'NEGATIVO': 0.0004731905646622181},\n",
              " {'POSITIVO': 0.9999285936355591, 'NEGATIVO': 4.539786823443137e-05},\n",
              " {'POSITIVO': 0.999906063079834, 'NEGATIVO': 4.539786823443137e-05},\n",
              " {'POSITIVO': 0.9999183416366577, 'NEGATIVO': 4.539786823443137e-05},\n",
              " {'POSITIVO': 0.9998615980148315, 'NEGATIVO': 4.539786823443137e-05},\n",
              " {'POSITIVO': 0.9999246597290039, 'NEGATIVO': 4.539786823443137e-05},\n",
              " {'POSITIVO': 0.9998977184295654, 'NEGATIVO': 4.539786823443137e-05},\n",
              " {'POSITIVO': 0.999822199344635, 'NEGATIVO': 0.0004062564403284341},\n",
              " {'POSITIVO': 0.9999111890792847, 'NEGATIVO': 4.539786823443137e-05},\n",
              " {'POSITIVO': 0.9999399185180664, 'NEGATIVO': 7.951255975058302e-05},\n",
              " {'POSITIVO': 0.9999322891235352, 'NEGATIVO': 9.195538586936891e-05},\n",
              " {'POSITIVO': 0.9996823072433472, 'NEGATIVO': 5.464777132146992e-05},\n",
              " {'POSITIVO': 0.9998993873596191, 'NEGATIVO': 6.203475641086698e-05},\n",
              " {'POSITIVO': 0.9999545812606812, 'NEGATIVO': 6.0711005062330514e-05},\n",
              " {'POSITIVO': 0.9999545812606812, 'NEGATIVO': 6.197940820129588e-05},\n",
              " {'POSITIVO': 0.9999297857284546, 'NEGATIVO': 4.539786823443137e-05},\n",
              " {'POSITIVO': 0.9998972415924072, 'NEGATIVO': 4.539786823443137e-05},\n",
              " {'POSITIVO': 0.9982383251190186, 'NEGATIVO': 0.004224723670631647},\n",
              " {'POSITIVO': 0.9999545812606812, 'NEGATIVO': 6.0432190366555005e-05},\n",
              " {'POSITIVO': 0.999923586845398, 'NEGATIVO': 4.539786823443137e-05},\n",
              " {'POSITIVO': 0.9999468326568604, 'NEGATIVO': 4.539786823443137e-05},\n",
              " {'POSITIVO': 0.9996328353881836, 'NEGATIVO': 0.0008123984443955123},\n",
              " {'POSITIVO': 0.9998936653137207, 'NEGATIVO': 4.539786823443137e-05},\n",
              " {'POSITIVO': 0.999765932559967, 'NEGATIVO': 4.539786823443137e-05},\n",
              " {'POSITIVO': 0.999833345413208, 'NEGATIVO': 4.539786823443137e-05},\n",
              " {'POSITIVO': 0.999804675579071, 'NEGATIVO': 4.539786823443137e-05},\n",
              " {'POSITIVO': 0.9998125433921814, 'NEGATIVO': 4.539786823443137e-05},\n",
              " {'POSITIVO': 0.9998021721839905, 'NEGATIVO': 4.539786823443137e-05},\n",
              " {'POSITIVO': 0.9998596906661987, 'NEGATIVO': 4.539786823443137e-05},\n",
              " {'POSITIVO': 0.9998840093612671, 'NEGATIVO': 4.539786823443137e-05},\n",
              " {'POSITIVO': 0.9999545812606812, 'NEGATIVO': 4.539786823443137e-05},\n",
              " {'POSITIVO': 0.9999334812164307, 'NEGATIVO': 4.539786823443137e-05},\n",
              " {'POSITIVO': 0.9999104738235474, 'NEGATIVO': 4.539786823443137e-05},\n",
              " {'POSITIVO': 0.9998412132263184, 'NEGATIVO': 4.539786823443137e-05},\n",
              " {'POSITIVO': 0.9999314546585083, 'NEGATIVO': 5.185534610063769e-05},\n",
              " {'POSITIVO': 0.9998890161514282, 'NEGATIVO': 4.539786823443137e-05},\n",
              " {'POSITIVO': 0.9998996257781982, 'NEGATIVO': 4.539786823443137e-05},\n",
              " {'POSITIVO': 0.9999359846115112, 'NEGATIVO': 4.539786823443137e-05},\n",
              " {'POSITIVO': 0.9980823993682861, 'NEGATIVO': 0.0003002113662660122},\n",
              " {'POSITIVO': 0.9997701048851013, 'NEGATIVO': 8.109776536002755e-05},\n",
              " {'POSITIVO': 0.9999115467071533, 'NEGATIVO': 5.073845386505127e-05},\n",
              " {'POSITIVO': 0.9999521970748901, 'NEGATIVO': 4.539786823443137e-05},\n",
              " {'POSITIVO': 0.9995498061180115, 'NEGATIVO': 0.00018478032143320888},\n",
              " {'POSITIVO': 0.9999492168426514, 'NEGATIVO': 4.539786823443137e-05},\n",
              " {'POSITIVO': 0.9999406337738037, 'NEGATIVO': 5.227484507486224e-05},\n",
              " {'POSITIVO': 0.9999545812606812, 'NEGATIVO': 0.0002443082630634308},\n",
              " {'POSITIVO': 0.9999288320541382, 'NEGATIVO': 4.824377174372785e-05},\n",
              " {'POSITIVO': 0.9998200535774231, 'NEGATIVO': 4.539786823443137e-05},\n",
              " {'POSITIVO': 0.999764621257782, 'NEGATIVO': 4.539786823443137e-05},\n",
              " {'POSITIVO': 0.9999545812606812, 'NEGATIVO': 4.539786823443137e-05},\n",
              " {'POSITIVO': 0.9999544620513916, 'NEGATIVO': 4.539786823443137e-05},\n",
              " {'POSITIVO': 0.999886155128479, 'NEGATIVO': 4.539786823443137e-05},\n",
              " {'POSITIVO': 0.999885082244873, 'NEGATIVO': 4.539786823443137e-05},\n",
              " {'POSITIVO': 0.9998205304145813, 'NEGATIVO': 5.1357368647586554e-05},\n",
              " {'POSITIVO': 0.9999492168426514, 'NEGATIVO': 4.539786823443137e-05},\n",
              " {'POSITIVO': 0.9999328851699829, 'NEGATIVO': 4.539786823443137e-05},\n",
              " {'POSITIVO': 0.9999545812606812, 'NEGATIVO': 4.539786823443137e-05},\n",
              " {'POSITIVO': 0.9998946189880371, 'NEGATIVO': 0.00015665833780076355},\n",
              " {'POSITIVO': 0.9999376535415649, 'NEGATIVO': 4.539786823443137e-05},\n",
              " {'POSITIVO': 0.9998886585235596, 'NEGATIVO': 7.131761230994016e-05},\n",
              " {'POSITIVO': 0.9998438358306885, 'NEGATIVO': 4.539786823443137e-05},\n",
              " {'POSITIVO': 0.9999545812606812, 'NEGATIVO': 4.9475173000246286e-05},\n",
              " {'POSITIVO': 0.9999003410339355, 'NEGATIVO': 4.550900848698802e-05},\n",
              " {'POSITIVO': 0.9998993873596191, 'NEGATIVO': 7.192710472736508e-05},\n",
              " {'POSITIVO': 0.9998080134391785, 'NEGATIVO': 4.539786823443137e-05},\n",
              " {'POSITIVO': 0.9999079704284668, 'NEGATIVO': 4.539786823443137e-05},\n",
              " {'POSITIVO': 0.9998657703399658, 'NEGATIVO': 4.539786823443137e-05},\n",
              " {'POSITIVO': 0.9999109506607056, 'NEGATIVO': 7.626659498782828e-05},\n",
              " {'POSITIVO': 0.9997300505638123, 'NEGATIVO': 0.0027007395401597023},\n",
              " {'POSITIVO': 0.9999082088470459, 'NEGATIVO': 9.674973989604041e-05},\n",
              " {'POSITIVO': 0.9999492168426514, 'NEGATIVO': 4.539786823443137e-05},\n",
              " {'POSITIVO': 0.9999003410339355, 'NEGATIVO': 4.550900848698802e-05},\n",
              " {'POSITIVO': 0.9998860359191895, 'NEGATIVO': 0.00010187026782659814},\n",
              " {'POSITIVO': 0.9998317956924438, 'NEGATIVO': 4.539786823443137e-05},\n",
              " {'POSITIVO': 0.9999545812606812, 'NEGATIVO': 0.00024381378898397088},\n",
              " {'POSITIVO': 0.999915361404419, 'NEGATIVO': 4.539786823443137e-05},\n",
              " {'POSITIVO': 0.9998602867126465, 'NEGATIVO': 4.539786823443137e-05},\n",
              " {'POSITIVO': 0.9999345541000366, 'NEGATIVO': 4.539786823443137e-05},\n",
              " {'POSITIVO': 0.9994872808456421, 'NEGATIVO': 0.00047755520790815353},\n",
              " {'POSITIVO': 0.999595582485199, 'NEGATIVO': 4.539786823443137e-05},\n",
              " {'POSITIVO': 0.9999356269836426, 'NEGATIVO': 4.539786823443137e-05},\n",
              " {'POSITIVO': 0.9998335838317871, 'NEGATIVO': 4.539786823443137e-05},\n",
              " {'POSITIVO': 0.999922513961792, 'NEGATIVO': 4.539786823443137e-05},\n",
              " {'POSITIVO': 0.9998238682746887, 'NEGATIVO': 4.539786823443137e-05},\n",
              " {'POSITIVO': 0.9995699524879456, 'NEGATIVO': 0.00024011137429624796},\n",
              " {'POSITIVO': 0.999637246131897, 'NEGATIVO': 7.137387729017064e-05},\n",
              " {'POSITIVO': 0.9999039173126221, 'NEGATIVO': 4.539786823443137e-05},\n",
              " {'POSITIVO': 0.9999388456344604, 'NEGATIVO': 5.4909640311961994e-05},\n",
              " {'POSITIVO': 0.999941349029541, 'NEGATIVO': 4.539786823443137e-05},\n",
              " {'POSITIVO': 0.9997854828834534, 'NEGATIVO': 4.539786823443137e-05},\n",
              " {'POSITIVO': 0.999893069267273, 'NEGATIVO': 4.539786823443137e-05},\n",
              " {'POSITIVO': 0.9998276233673096, 'NEGATIVO': 4.539786823443137e-05},\n",
              " {'POSITIVO': 0.9998866319656372, 'NEGATIVO': 4.539786823443137e-05},\n",
              " {'POSITIVO': 0.9998385906219482, 'NEGATIVO': 4.539786823443137e-05},\n",
              " {'POSITIVO': 0.9998922348022461, 'NEGATIVO': 0.00047604626161046326},\n",
              " {'POSITIVO': 0.9999545812606812, 'NEGATIVO': 0.00036244437796995044},\n",
              " {'POSITIVO': 0.9999545812606812, 'NEGATIVO': 4.539786823443137e-05},\n",
              " {'POSITIVO': 0.9999274015426636, 'NEGATIVO': 4.539786823443137e-05},\n",
              " {'POSITIVO': 0.9999146461486816, 'NEGATIVO': 4.539786823443137e-05},\n",
              " {'POSITIVO': 0.999909520149231, 'NEGATIVO': 4.539786823443137e-05},\n",
              " {'POSITIVO': 0.9999545812606812, 'NEGATIVO': 4.539786823443137e-05},\n",
              " {'POSITIVO': 0.9998985528945923, 'NEGATIVO': 7.469229603884742e-05},\n",
              " {'POSITIVO': 0.9999487400054932, 'NEGATIVO': 4.539786823443137e-05},\n",
              " {'POSITIVO': 0.9999452829360962, 'NEGATIVO': 5.55167680431623e-05},\n",
              " {'POSITIVO': 0.9999068975448608, 'NEGATIVO': 4.539786823443137e-05},\n",
              " {'POSITIVO': 0.999893069267273, 'NEGATIVO': 4.539786823443137e-05},\n",
              " {'POSITIVO': 0.9999003410339355, 'NEGATIVO': 4.550900848698802e-05},\n",
              " {'POSITIVO': 0.999842643737793, 'NEGATIVO': 4.539786823443137e-05},\n",
              " {'POSITIVO': 0.9998980760574341, 'NEGATIVO': 6.911082891747355e-05},\n",
              " {'POSITIVO': 0.9999337196350098, 'NEGATIVO': 4.539786823443137e-05},\n",
              " {'POSITIVO': 0.9999104738235474, 'NEGATIVO': 4.539786823443137e-05},\n",
              " {'POSITIVO': 0.9999291896820068, 'NEGATIVO': 0.00016204302664846182},\n",
              " {'POSITIVO': 0.9998669624328613, 'NEGATIVO': 4.539786823443137e-05},\n",
              " {'POSITIVO': 0.9997990727424622, 'NEGATIVO': 4.539786823443137e-05},\n",
              " {'POSITIVO': 0.9999312162399292, 'NEGATIVO': 4.864865695708431e-05},\n",
              " {'POSITIVO': 0.9997944235801697, 'NEGATIVO': 4.539786823443137e-05},\n",
              " {'POSITIVO': 0.9996507167816162, 'NEGATIVO': 0.00019457421149127185},\n",
              " {'POSITIVO': 0.9999290704727173, 'NEGATIVO': 4.539786823443137e-05},\n",
              " {'POSITIVO': 0.9999362230300903, 'NEGATIVO': 4.6384648157982156e-05},\n",
              " {'POSITIVO': 0.9998432397842407, 'NEGATIVO': 4.539786823443137e-05},\n",
              " {'POSITIVO': 0.9998763799667358, 'NEGATIVO': 7.929041021270677e-05},\n",
              " {'POSITIVO': 0.9999490976333618, 'NEGATIVO': 4.539786823443137e-05},\n",
              " {'POSITIVO': 0.9997705817222595, 'NEGATIVO': 4.539786823443137e-05},\n",
              " {'POSITIVO': 0.9999467134475708, 'NEGATIVO': 4.539786823443137e-05},\n",
              " {'POSITIVO': 0.9999545812606812, 'NEGATIVO': 4.539786823443137e-05},\n",
              " {'POSITIVO': 0.9998745918273926, 'NEGATIVO': 4.539786823443137e-05},\n",
              " {'POSITIVO': 0.9998005032539368, 'NEGATIVO': 4.539786823443137e-05},\n",
              " {'POSITIVO': 0.9998832941055298, 'NEGATIVO': 5.545311432797462e-05},\n",
              " {'POSITIVO': 0.9999545812606812, 'NEGATIVO': 4.776051719090901e-05},\n",
              " {'POSITIVO': 0.9999171495437622, 'NEGATIVO': 4.539786823443137e-05},\n",
              " {'POSITIVO': 0.999887228012085, 'NEGATIVO': 4.539786823443137e-05},\n",
              " {'POSITIVO': 0.999813973903656, 'NEGATIVO': 4.539786823443137e-05},\n",
              " {'POSITIVO': 0.9999032020568848, 'NEGATIVO': 4.539786823443137e-05},\n",
              " {'POSITIVO': 0.9998865127563477, 'NEGATIVO': 8.602337766205892e-05},\n",
              " {'POSITIVO': 0.9998452663421631, 'NEGATIVO': 4.539786823443137e-05},\n",
              " {'POSITIVO': 0.9999133348464966, 'NEGATIVO': 4.539786823443137e-05},\n",
              " {'POSITIVO': 0.9999545812606812, 'NEGATIVO': 4.849418473895639e-05},\n",
              " {'POSITIVO': 0.9999545812606812, 'NEGATIVO': 4.539786823443137e-05},\n",
              " {'POSITIVO': 0.9999239444732666, 'NEGATIVO': 4.539786823443137e-05},\n",
              " {'POSITIVO': 0.9998986721038818, 'NEGATIVO': 4.539786823443137e-05},\n",
              " {'POSITIVO': 0.9999545812606812, 'NEGATIVO': 0.00013227549789007753},\n",
              " {'POSITIVO': 0.9999003410339355, 'NEGATIVO': 4.539786823443137e-05},\n",
              " {'POSITIVO': 0.9998854398727417, 'NEGATIVO': 4.539786823443137e-05},\n",
              " {'POSITIVO': 0.9999386072158813, 'NEGATIVO': 4.539786823443137e-05},\n",
              " {'POSITIVO': 0.9998941421508789, 'NEGATIVO': 9.312683687312528e-05},\n",
              " {'POSITIVO': 0.9999545812606812, 'NEGATIVO': 4.539786823443137e-05},\n",
              " {'POSITIVO': 0.999901294708252, 'NEGATIVO': 4.539786823443137e-05},\n",
              " {'POSITIVO': 0.9998944997787476, 'NEGATIVO': 4.539786823443137e-05},\n",
              " {'POSITIVO': 0.9999264478683472, 'NEGATIVO': 4.539786823443137e-05},\n",
              " {'POSITIVO': 0.9999463558197021, 'NEGATIVO': 4.539786823443137e-05},\n",
              " {'POSITIVO': 0.9999513626098633, 'NEGATIVO': 0.00028899358585476875},\n",
              " {'POSITIVO': 0.9999040365219116, 'NEGATIVO': 0.00017581027350388467},\n",
              " {'POSITIVO': 0.9997571110725403, 'NEGATIVO': 4.539786823443137e-05},\n",
              " {'POSITIVO': 0.9998194575309753, 'NEGATIVO': 4.539786823443137e-05},\n",
              " {'POSITIVO': 0.9998910427093506, 'NEGATIVO': 8.666724897921085e-05},\n",
              " {'POSITIVO': 0.9999121427536011, 'NEGATIVO': 4.539786823443137e-05},\n",
              " {'POSITIVO': 0.9999333620071411, 'NEGATIVO': 4.539786823443137e-05},\n",
              " {'POSITIVO': 0.9999545812606812, 'NEGATIVO': 0.00010238748654955998},\n",
              " {'POSITIVO': 0.999920129776001, 'NEGATIVO': 4.539786823443137e-05},\n",
              " {'POSITIVO': 0.9999545812606812, 'NEGATIVO': 5.636404603137635e-05},\n",
              " {'POSITIVO': 0.9999455213546753, 'NEGATIVO': 4.539786823443137e-05},\n",
              " {'POSITIVO': 0.9997106194496155, 'NEGATIVO': 6.32910305284895e-05},\n",
              " {'POSITIVO': 0.9995965361595154, 'NEGATIVO': 0.0003433941164985299},\n",
              " {'POSITIVO': 0.9998601675033569, 'NEGATIVO': 4.539786823443137e-05},\n",
              " {'POSITIVO': 0.9998489618301392, 'NEGATIVO': 4.539786823443137e-05},\n",
              " {'POSITIVO': 0.9999088048934937, 'NEGATIVO': 4.539786823443137e-05},\n",
              " {'POSITIVO': 0.9998586177825928, 'NEGATIVO': 4.539786823443137e-05},\n",
              " {'POSITIVO': 0.9998601675033569, 'NEGATIVO': 4.539786823443137e-05},\n",
              " {'POSITIVO': 0.9998635053634644, 'NEGATIVO': 5.324962694430724e-05},\n",
              " {'POSITIVO': 0.9998886585235596, 'NEGATIVO': 4.539786823443137e-05},\n",
              " {'POSITIVO': 0.9999059438705444, 'NEGATIVO': 5.354414679459296e-05},\n",
              " {'POSITIVO': 0.9998955726623535, 'NEGATIVO': 0.00010338910215068609},\n",
              " {'POSITIVO': 0.99994957447052, 'NEGATIVO': 4.539786823443137e-05},\n",
              " {'POSITIVO': 0.9999293088912964, 'NEGATIVO': 4.539786823443137e-05},\n",
              " {'POSITIVO': 0.9999475479125977, 'NEGATIVO': 6.530838436447084e-05},\n",
              " {'POSITIVO': 0.9999444484710693, 'NEGATIVO': 5.3297026170184836e-05},\n",
              " {'POSITIVO': 0.9997264742851257, 'NEGATIVO': 4.539786823443137e-05},\n",
              " {'POSITIVO': 0.9998534917831421, 'NEGATIVO': 4.539786823443137e-05},\n",
              " {'POSITIVO': 0.9999505281448364, 'NEGATIVO': 6.025690890965052e-05},\n",
              " {'POSITIVO': 0.9999265670776367, 'NEGATIVO': 4.539786823443137e-05},\n",
              " {'POSITIVO': 0.9999340772628784, 'NEGATIVO': 4.539786823443137e-05},\n",
              " {'POSITIVO': 0.9998973608016968, 'NEGATIVO': 7.077831105561927e-05},\n",
              " {'POSITIVO': 0.9999487400054932, 'NEGATIVO': 4.539786823443137e-05},\n",
              " {'POSITIVO': 0.9999374151229858, 'NEGATIVO': 4.539786823443137e-05},\n",
              " {'POSITIVO': 0.9998202919960022, 'NEGATIVO': 4.539786823443137e-05},\n",
              " {'POSITIVO': 0.9999470710754395, 'NEGATIVO': 6.248896534088999e-05},\n",
              " {'POSITIVO': 0.9999003410339355, 'NEGATIVO': 4.550900848698802e-05},\n",
              " {'POSITIVO': 0.9998574256896973, 'NEGATIVO': 6.241255323402584e-05},\n",
              " {'POSITIVO': 0.9999003410339355, 'NEGATIVO': 4.550900848698802e-05},\n",
              " {'POSITIVO': 0.9999251365661621, 'NEGATIVO': 4.539786823443137e-05},\n",
              " {'POSITIVO': 0.9998468160629272, 'NEGATIVO': 4.539786823443137e-05},\n",
              " {'POSITIVO': 0.9999381303787231, 'NEGATIVO': 4.539786823443137e-05},\n",
              " {'POSITIVO': 0.999868631362915, 'NEGATIVO': 4.539786823443137e-05},\n",
              " {'POSITIVO': 0.9997974038124084, 'NEGATIVO': 4.539786823443137e-05},\n",
              " {'POSITIVO': 0.9997889399528503, 'NEGATIVO': 4.539786823443137e-05},\n",
              " {'POSITIVO': 0.9999545812606812, 'NEGATIVO': 0.00010900412598857656},\n",
              " {'POSITIVO': 0.9999293088912964, 'NEGATIVO': 4.673363218898885e-05},\n",
              " {'POSITIVO': 0.9998612403869629, 'NEGATIVO': 4.539786823443137e-05},\n",
              " {'POSITIVO': 0.9999545812606812, 'NEGATIVO': 4.650827031582594e-05},\n",
              " {'POSITIVO': 0.9998409748077393, 'NEGATIVO': 0.00028535956516861916},\n",
              " {'POSITIVO': 0.999937891960144, 'NEGATIVO': 6.427147309295833e-05},\n",
              " {'POSITIVO': 0.9997971653938293, 'NEGATIVO': 4.539786823443137e-05},\n",
              " {'POSITIVO': 0.9998795986175537, 'NEGATIVO': 4.539786823443137e-05},\n",
              " {'POSITIVO': 0.9999372959136963, 'NEGATIVO': 6.61935773678124e-05},\n",
              " {'POSITIVO': 0.9998726844787598, 'NEGATIVO': 4.539786823443137e-05},\n",
              " {'POSITIVO': 0.999748170375824, 'NEGATIVO': 4.539786823443137e-05},\n",
              " {'POSITIVO': 0.9997993111610413, 'NEGATIVO': 0.00010087277769343928},\n",
              " {'POSITIVO': 0.9999130964279175, 'NEGATIVO': 4.539786823443137e-05},\n",
              " {'POSITIVO': 0.9998906850814819, 'NEGATIVO': 4.539786823443137e-05},\n",
              " {'POSITIVO': 0.9999003410339355, 'NEGATIVO': 4.550900848698802e-05},\n",
              " {'POSITIVO': 0.9998825788497925, 'NEGATIVO': 4.539786823443137e-05},\n",
              " {'POSITIVO': 0.9999545812606812, 'NEGATIVO': 7.200349500635639e-05},\n",
              " {'POSITIVO': 0.9999545812606812, 'NEGATIVO': 4.539786823443137e-05},\n",
              " {'POSITIVO': 0.9995548129081726, 'NEGATIVO': 0.0011688916711136699},\n",
              " {'POSITIVO': 0.9999383687973022, 'NEGATIVO': 4.539786823443137e-05},\n",
              " {'POSITIVO': 0.9999003410339355, 'NEGATIVO': 4.550900848698802e-05},\n",
              " {'POSITIVO': 0.9997565150260925, 'NEGATIVO': 9.73081259871833e-05},\n",
              " {'POSITIVO': 0.9999486207962036, 'NEGATIVO': 4.539786823443137e-05},\n",
              " {'POSITIVO': 0.9997307658195496, 'NEGATIVO': 0.0001387935335515067},\n",
              " {'POSITIVO': 0.9960411787033081, 'NEGATIVO': 0.0012912675738334656},\n",
              " {'POSITIVO': 0.9999485015869141, 'NEGATIVO': 4.539786823443137e-05},\n",
              " {'POSITIVO': 0.9998874664306641, 'NEGATIVO': 4.539786823443137e-05},\n",
              " {'POSITIVO': 0.9999315738677979, 'NEGATIVO': 8.074803918134421e-05},\n",
              " {'POSITIVO': 0.9999319314956665, 'NEGATIVO': 4.539786823443137e-05},\n",
              " {'POSITIVO': 0.9999254941940308, 'NEGATIVO': 9.011920337798074e-05},\n",
              " {'POSITIVO': 0.999637246131897, 'NEGATIVO': 4.539786823443137e-05},\n",
              " {'POSITIVO': 0.9997853636741638, 'NEGATIVO': 4.539786823443137e-05},\n",
              " {'POSITIVO': 0.999839186668396, 'NEGATIVO': 4.539786823443137e-05},\n",
              " {'POSITIVO': 0.9999439716339111, 'NEGATIVO': 4.539786823443137e-05},\n",
              " {'POSITIVO': 0.9998840093612671, 'NEGATIVO': 0.00010231858323095366},\n",
              " {'POSITIVO': 0.999910831451416, 'NEGATIVO': 4.539786823443137e-05},\n",
              " {'POSITIVO': 0.9999421834945679, 'NEGATIVO': 6.037361526978202e-05},\n",
              " {'POSITIVO': 0.9998812675476074, 'NEGATIVO': 4.539786823443137e-05},\n",
              " {'POSITIVO': 0.9999228715896606, 'NEGATIVO': 5.071532359579578e-05},\n",
              " {'POSITIVO': 0.9998432397842407, 'NEGATIVO': 4.539786823443137e-05},\n",
              " {'POSITIVO': 0.9998134970664978, 'NEGATIVO': 4.539786823443137e-05},\n",
              " {'POSITIVO': 0.9996838569641113, 'NEGATIVO': 4.539786823443137e-05},\n",
              " {'POSITIVO': 0.9999221563339233, 'NEGATIVO': 5.015175702283159e-05},\n",
              " {'POSITIVO': 0.999897837638855, 'NEGATIVO': 4.539786823443137e-05},\n",
              " {'POSITIVO': 0.99994957447052, 'NEGATIVO': 4.539786823443137e-05},\n",
              " {'POSITIVO': 0.9999545812606812, 'NEGATIVO': 5.108777986606583e-05},\n",
              " {'POSITIVO': 0.9999090433120728, 'NEGATIVO': 4.539786823443137e-05},\n",
              " {'POSITIVO': 0.9998722076416016, 'NEGATIVO': 4.539786823443137e-05},\n",
              " {'POSITIVO': 0.9999264478683472, 'NEGATIVO': 4.539786823443137e-05},\n",
              " {'POSITIVO': 0.9999390840530396, 'NEGATIVO': 4.539786823443137e-05},\n",
              " {'POSITIVO': 0.9998961687088013, 'NEGATIVO': 4.539786823443137e-05},\n",
              " {'POSITIVO': 0.9999387264251709, 'NEGATIVO': 0.00022842366888653487},\n",
              " {'POSITIVO': 0.9998328685760498, 'NEGATIVO': 9.152279380941764e-05},\n",
              " {'POSITIVO': 0.9999264478683472, 'NEGATIVO': 4.601461478159763e-05},\n",
              " {'POSITIVO': 0.9999499320983887, 'NEGATIVO': 4.539786823443137e-05},\n",
              " {'POSITIVO': 0.9998669624328613, 'NEGATIVO': 0.00043244074913673103},\n",
              " {'POSITIVO': 0.9997137188911438, 'NEGATIVO': 4.539786823443137e-05},\n",
              " {'POSITIVO': 0.9997608065605164, 'NEGATIVO': 4.539786823443137e-05},\n",
              " {'POSITIVO': 0.9999396800994873, 'NEGATIVO': 4.899682244285941e-05},\n",
              " {'POSITIVO': 0.9999371767044067, 'NEGATIVO': 4.539786823443137e-05},\n",
              " {'POSITIVO': 0.9993661046028137, 'NEGATIVO': 0.0002476589288562536},\n",
              " {'POSITIVO': 0.9999018907546997, 'NEGATIVO': 4.539786823443137e-05},\n",
              " {'POSITIVO': 0.9998953342437744, 'NEGATIVO': 8.73779208632186e-05},\n",
              " {'POSITIVO': 0.9998531341552734, 'NEGATIVO': 4.539786823443137e-05},\n",
              " {'POSITIVO': 0.9997014403343201, 'NEGATIVO': 0.005458496045321226},\n",
              " {'POSITIVO': 0.9998810291290283, 'NEGATIVO': 4.539786823443137e-05},\n",
              " {'POSITIVO': 0.9998804330825806, 'NEGATIVO': 4.539786823443137e-05},\n",
              " {'POSITIVO': 0.9999332427978516, 'NEGATIVO': 4.539786823443137e-05},\n",
              " {'POSITIVO': 0.9999361038208008, 'NEGATIVO': 4.539786823443137e-05},\n",
              " {'POSITIVO': 0.9998416900634766, 'NEGATIVO': 4.539786823443137e-05},\n",
              " {'POSITIVO': 0.999889612197876, 'NEGATIVO': 8.502337004756555e-05},\n",
              " {'POSITIVO': 0.9999245405197144, 'NEGATIVO': 0.00010557151836110279},\n",
              " {'POSITIVO': 0.9998551607131958, 'NEGATIVO': 4.539786823443137e-05},\n",
              " {'POSITIVO': 0.9999545812606812, 'NEGATIVO': 6.0297494201222435e-05},\n",
              " {'POSITIVO': 0.9999001026153564, 'NEGATIVO': 4.539786823443137e-05},\n",
              " {'POSITIVO': 0.9998852014541626, 'NEGATIVO': 6.810850754845887e-05},\n",
              " {'POSITIVO': 0.9998824596405029, 'NEGATIVO': 4.539786823443137e-05},\n",
              " {'POSITIVO': 0.999910831451416, 'NEGATIVO': 6.257967470446602e-05},\n",
              " {'POSITIVO': 0.9999018907546997, 'NEGATIVO': 4.539786823443137e-05},\n",
              " {'POSITIVO': 0.999860405921936, 'NEGATIVO': 4.539786823443137e-05},\n",
              " {'POSITIVO': 0.9999315738677979, 'NEGATIVO': 0.0003530664253048599},\n",
              " {'POSITIVO': 0.9998384714126587, 'NEGATIVO': 4.539786823443137e-05},\n",
              " {'POSITIVO': 0.9996330738067627, 'NEGATIVO': 4.539786823443137e-05},\n",
              " {'POSITIVO': 0.999896764755249, 'NEGATIVO': 4.539786823443137e-05},\n",
              " {'POSITIVO': 0.9998534917831421, 'NEGATIVO': 4.539786823443137e-05},\n",
              " {'POSITIVO': 0.999749481678009, 'NEGATIVO': 0.0001993748446693644},\n",
              " {'POSITIVO': 0.9998922348022461, 'NEGATIVO': 6.0942682466702536e-05},\n",
              " {'POSITIVO': 0.9999165534973145, 'NEGATIVO': 6.374841905198991e-05},\n",
              " {'POSITIVO': 0.9999545812606812, 'NEGATIVO': 4.539786823443137e-05},\n",
              " {'POSITIVO': 0.9997565150260925, 'NEGATIVO': 4.539786823443137e-05},\n",
              " {'POSITIVO': 0.9999018907546997, 'NEGATIVO': 4.539786823443137e-05},\n",
              " {'POSITIVO': 0.999870777130127, 'NEGATIVO': 4.539786823443137e-05},\n",
              " {'POSITIVO': 0.9999545812606812, 'NEGATIVO': 0.0001275163667742163},\n",
              " {'POSITIVO': 0.999895453453064, 'NEGATIVO': 4.539786823443137e-05},\n",
              " {'POSITIVO': 0.9999431371688843, 'NEGATIVO': 4.539786823443137e-05},\n",
              " {'POSITIVO': 0.9998021721839905, 'NEGATIVO': 0.0009627145482227206},\n",
              " {'POSITIVO': 0.9998914003372192, 'NEGATIVO': 4.539786823443137e-05},\n",
              " {'POSITIVO': 0.9998432397842407, 'NEGATIVO': 4.539786823443137e-05},\n",
              " {'POSITIVO': 0.9999185800552368, 'NEGATIVO': 4.539786823443137e-05},\n",
              " {'POSITIVO': 0.9995299577713013, 'NEGATIVO': 0.0001139198211603798},\n",
              " {'POSITIVO': 0.9998618364334106, 'NEGATIVO': 4.539786823443137e-05},\n",
              " {'POSITIVO': 0.9999545812606812, 'NEGATIVO': 4.539786823443137e-05},\n",
              " {'POSITIVO': 0.9998868703842163, 'NEGATIVO': 4.539786823443137e-05},\n",
              " {'POSITIVO': 0.9998773336410522, 'NEGATIVO': 0.0002812422171700746},\n",
              " {'POSITIVO': 0.9998694658279419, 'NEGATIVO': 0.0008586141630075872},\n",
              " {'POSITIVO': 0.9998422861099243, 'NEGATIVO': 4.539786823443137e-05},\n",
              " {'POSITIVO': 0.9998998641967773, 'NEGATIVO': 4.539786823443137e-05},\n",
              " {'POSITIVO': 0.9999285936355591, 'NEGATIVO': 4.539786823443137e-05},\n",
              " {'POSITIVO': 0.9999285936355591, 'NEGATIVO': 4.539786823443137e-05},\n",
              " {'POSITIVO': 0.9999145269393921, 'NEGATIVO': 4.539786823443137e-05},\n",
              " {'POSITIVO': 0.9999285936355591, 'NEGATIVO': 4.539786823443137e-05},\n",
              " {'POSITIVO': 0.9999480247497559, 'NEGATIVO': 6.913086690474302e-05},\n",
              " {'POSITIVO': 0.9999285936355591, 'NEGATIVO': 4.539786823443137e-05},\n",
              " {'POSITIVO': 0.9999504089355469, 'NEGATIVO': 4.539786823443137e-05},\n",
              " {'POSITIVO': 0.9999545812606812, 'NEGATIVO': 4.539786823443137e-05},\n",
              " {'POSITIVO': 0.9999545812606812, 'NEGATIVO': 0.00017047522123903036},\n",
              " {'POSITIVO': 0.9997771382331848, 'NEGATIVO': 4.539786823443137e-05},\n",
              " {'POSITIVO': 0.9999300241470337, 'NEGATIVO': 0.000273156474577263},\n",
              " {'POSITIVO': 0.9987885355949402, 'NEGATIVO': 0.0006768612656742334},\n",
              " {'POSITIVO': 0.9999245405197144, 'NEGATIVO': 4.539786823443137e-05},\n",
              " {'POSITIVO': 0.999934196472168, 'NEGATIVO': 4.539786823443137e-05},\n",
              " {'POSITIVO': 0.9999253749847412, 'NEGATIVO': 5.705615330953151e-05},\n",
              " {'POSITIVO': 0.9996801614761353, 'NEGATIVO': 4.9683589168125764e-05},\n",
              " {'POSITIVO': 0.9998109936714172, 'NEGATIVO': 0.00015003097360022366},\n",
              " {'POSITIVO': 0.9999287128448486, 'NEGATIVO': 4.539786823443137e-05},\n",
              " {'POSITIVO': 0.9999275207519531, 'NEGATIVO': 9.846792090684175e-05},\n",
              " {'POSITIVO': 0.9999077320098877, 'NEGATIVO': 4.539786823443137e-05},\n",
              " {'POSITIVO': 0.9999104738235474, 'NEGATIVO': 4.539786823443137e-05},\n",
              " {'POSITIVO': 0.9998072981834412, 'NEGATIVO': 4.539786823443137e-05},\n",
              " {'POSITIVO': 0.999934196472168, 'NEGATIVO': 4.539786823443137e-05},\n",
              " {'POSITIVO': 0.9999545812606812, 'NEGATIVO': 7.743052992736921e-05},\n",
              " {'POSITIVO': 0.9999215602874756, 'NEGATIVO': 4.539786823443137e-05},\n",
              " {'POSITIVO': 0.9999003410339355, 'NEGATIVO': 4.550900848698802e-05},\n",
              " {'POSITIVO': 0.9997749924659729, 'NEGATIVO': 0.000532791658770293},\n",
              " {'POSITIVO': 0.9999417066574097, 'NEGATIVO': 4.539786823443137e-05},\n",
              " {'POSITIVO': 0.9999489784240723, 'NEGATIVO': 5.4787764383945614e-05},\n",
              " {'POSITIVO': 0.9999492168426514, 'NEGATIVO': 4.539786823443137e-05},\n",
              " {'POSITIVO': 0.9998528957366943, 'NEGATIVO': 4.539786823443137e-05},\n",
              " {'POSITIVO': 0.9999363422393799, 'NEGATIVO': 4.539786823443137e-05},\n",
              " {'POSITIVO': 0.9997283816337585, 'NEGATIVO': 4.539786823443137e-05},\n",
              " {'POSITIVO': 0.9999545812606812, 'NEGATIVO': 6.551541446242481e-05},\n",
              " {'POSITIVO': 0.999940037727356, 'NEGATIVO': 4.539786823443137e-05},\n",
              " {'POSITIVO': 0.9999250173568726, 'NEGATIVO': 4.9603204388404265e-05},\n",
              " {'POSITIVO': 0.9999332427978516, 'NEGATIVO': 4.539786823443137e-05},\n",
              " {'POSITIVO': 0.9998238682746887, 'NEGATIVO': 0.0006080266321077943},\n",
              " {'POSITIVO': 0.9999215602874756, 'NEGATIVO': 4.539786823443137e-05},\n",
              " {'POSITIVO': 0.9997603297233582, 'NEGATIVO': 4.539786823443137e-05},\n",
              " {'POSITIVO': 0.9998979568481445, 'NEGATIVO': 0.00045974328531883657},\n",
              " {'POSITIVO': 0.9999116659164429, 'NEGATIVO': 4.539786823443137e-05},\n",
              " {'POSITIVO': 0.9999545812606812, 'NEGATIVO': 7.676662789890543e-05},\n",
              " {'POSITIVO': 0.9999545812606812, 'NEGATIVO': 0.00012130325922043994},\n",
              " {'POSITIVO': 0.9998859167098999, 'NEGATIVO': 4.539786823443137e-05},\n",
              " {'POSITIVO': 0.9999432563781738, 'NEGATIVO': 4.539786823443137e-05},\n",
              " {'POSITIVO': 0.9999051094055176, 'NEGATIVO': 4.539786823443137e-05},\n",
              " {'POSITIVO': 0.9999350309371948, 'NEGATIVO': 4.539786823443137e-05},\n",
              " {'POSITIVO': 0.9998874664306641, 'NEGATIVO': 9.221029176842421e-05},\n",
              " {'POSITIVO': 0.9999545812606812, 'NEGATIVO': 5.3978954383637756e-05},\n",
              " {'POSITIVO': 0.9998231530189514, 'NEGATIVO': 4.539786823443137e-05},\n",
              " {'POSITIVO': 0.999922513961792, 'NEGATIVO': 4.539786823443137e-05},\n",
              " {'POSITIVO': 0.9957910776138306, 'NEGATIVO': 0.0072681112214922905},\n",
              " {'POSITIVO': 0.9999301433563232, 'NEGATIVO': 0.00019218608213122934},\n",
              " {'POSITIVO': 0.9999282360076904, 'NEGATIVO': 5.0044171075569466e-05},\n",
              " {'POSITIVO': 0.9999076128005981, 'NEGATIVO': 4.539786823443137e-05},\n",
              " {'POSITIVO': 0.9998728036880493, 'NEGATIVO': 4.539786823443137e-05},\n",
              " {'POSITIVO': 0.9999524354934692, 'NEGATIVO': 4.539786823443137e-05},\n",
              " {'POSITIVO': 0.9998779296875, 'NEGATIVO': 4.539786823443137e-05},\n",
              " {'POSITIVO': 0.9998849630355835, 'NEGATIVO': 4.539786823443137e-05},\n",
              " {'POSITIVO': 0.9998905658721924, 'NEGATIVO': 0.00020406904513947666},\n",
              " {'POSITIVO': 0.9998769760131836, 'NEGATIVO': 4.539786823443137e-05},\n",
              " {'POSITIVO': 0.999672532081604, 'NEGATIVO': 5.787855479866266e-05},\n",
              " {'POSITIVO': 0.9998106360435486, 'NEGATIVO': 4.539786823443137e-05},\n",
              " {'POSITIVO': 0.9999377727508545, 'NEGATIVO': 4.539786823443137e-05},\n",
              " {'POSITIVO': 0.9999368190765381, 'NEGATIVO': 4.539786823443137e-05},\n",
              " {'POSITIVO': 0.9999545812606812, 'NEGATIVO': 4.539786823443137e-05},\n",
              " {'POSITIVO': 0.9999195337295532, 'NEGATIVO': 4.539786823443137e-05},\n",
              " {'POSITIVO': 0.9998936653137207, 'NEGATIVO': 0.0002813680039253086},\n",
              " {'POSITIVO': 0.9999163150787354, 'NEGATIVO': 4.539786823443137e-05},\n",
              " {'POSITIVO': 0.9998173117637634, 'NEGATIVO': 4.539786823443137e-05},\n",
              " {'POSITIVO': 0.9998666048049927, 'NEGATIVO': 4.539786823443137e-05},\n",
              " {'POSITIVO': 0.9998910427093506, 'NEGATIVO': 4.539786823443137e-05},\n",
              " {'POSITIVO': 0.9998131394386292, 'NEGATIVO': 4.539786823443137e-05},\n",
              " {'POSITIVO': 0.9997598528862, 'NEGATIVO': 4.539786823443137e-05},\n",
              " {'POSITIVO': 0.9999091625213623, 'NEGATIVO': 4.539786823443137e-05},\n",
              " {'POSITIVO': 0.999779999256134, 'NEGATIVO': 4.539786823443137e-05},\n",
              " {'POSITIVO': 0.9999545812606812, 'NEGATIVO': 7.61217888793908e-05},\n",
              " {'POSITIVO': 0.9998838901519775, 'NEGATIVO': 4.539786823443137e-05},\n",
              " {'POSITIVO': 0.999890923500061, 'NEGATIVO': 4.539786823443137e-05},\n",
              " {'POSITIVO': 0.9999001026153564, 'NEGATIVO': 4.744044417748228e-05},\n",
              " {'POSITIVO': 0.9999417066574097, 'NEGATIVO': 5.409588266047649e-05},\n",
              " {'POSITIVO': 0.9999475479125977, 'NEGATIVO': 4.80176713608671e-05},\n",
              " {'POSITIVO': 0.9999425411224365, 'NEGATIVO': 4.539786823443137e-05},\n",
              " {'POSITIVO': 0.9999545812606812, 'NEGATIVO': 0.0001848941610660404},\n",
              " {'POSITIVO': 0.9999257326126099, 'NEGATIVO': 4.539786823443137e-05},\n",
              " {'POSITIVO': 0.9998455047607422, 'NEGATIVO': 4.539786823443137e-05},\n",
              " {'POSITIVO': 0.9999369382858276, 'NEGATIVO': 4.539786823443137e-05},\n",
              " {'POSITIVO': 0.9998100399971008, 'NEGATIVO': 4.539786823443137e-05},\n",
              " {'POSITIVO': 0.9998785257339478, 'NEGATIVO': 7.168731099227443e-05},\n",
              " {'POSITIVO': 0.99988853931427, 'NEGATIVO': 0.0004847568925470114},\n",
              " {'POSITIVO': 0.9997290968894958, 'NEGATIVO': 4.539786823443137e-05},\n",
              " {'POSITIVO': 0.9999527931213379, 'NEGATIVO': 5.4323492804542184e-05},\n",
              " {'POSITIVO': 0.9999499320983887, 'NEGATIVO': 4.539786823443137e-05},\n",
              " {'POSITIVO': 0.9997740387916565, 'NEGATIVO': 4.539786823443137e-05},\n",
              " {'POSITIVO': 0.9998989105224609, 'NEGATIVO': 4.539786823443137e-05},\n",
              " {'POSITIVO': 0.9999121427536011, 'NEGATIVO': 4.539786823443137e-05},\n",
              " {'POSITIVO': 0.9998584985733032, 'NEGATIVO': 4.7467641707044095e-05},\n",
              " {'POSITIVO': 0.9999545812606812, 'NEGATIVO': 0.00021901146101299673},\n",
              " {'POSITIVO': 0.9999428987503052, 'NEGATIVO': 4.539786823443137e-05},\n",
              " {'POSITIVO': 0.9998761415481567, 'NEGATIVO': 4.539786823443137e-05},\n",
              " {'POSITIVO': 0.9998157620429993, 'NEGATIVO': 4.539786823443137e-05},\n",
              " {'POSITIVO': 0.9998812675476074, 'NEGATIVO': 4.539786823443137e-05},\n",
              " {'POSITIVO': 0.9998300075531006, 'NEGATIVO': 4.539786823443137e-05},\n",
              " {'POSITIVO': 0.9999186992645264, 'NEGATIVO': 4.786255522049032e-05},\n",
              " {'POSITIVO': 0.9999192953109741, 'NEGATIVO': 4.539786823443137e-05},\n",
              " {'POSITIVO': 0.9998670816421509, 'NEGATIVO': 4.539786823443137e-05},\n",
              " {'POSITIVO': 0.9999234676361084, 'NEGATIVO': 5.032931221649051e-05},\n",
              " {'POSITIVO': 0.9997783303260803, 'NEGATIVO': 4.539786823443137e-05},\n",
              " {'POSITIVO': 0.9998290538787842, 'NEGATIVO': 4.539786823443137e-05},\n",
              " {'POSITIVO': 0.9995319843292236, 'NEGATIVO': 4.539786823443137e-05},\n",
              " {'POSITIVO': 0.999893069267273, 'NEGATIVO': 4.539786823443137e-05},\n",
              " {'POSITIVO': 0.9998667240142822, 'NEGATIVO': 4.539786823443137e-05},\n",
              " {'POSITIVO': 0.9999469518661499, 'NEGATIVO': 4.539786823443137e-05},\n",
              " {'POSITIVO': 0.999825656414032, 'NEGATIVO': 4.539786823443137e-05},\n",
              " {'POSITIVO': 0.9998319149017334, 'NEGATIVO': 4.539786823443137e-05},\n",
              " {'POSITIVO': 0.9998946189880371, 'NEGATIVO': 4.539786823443137e-05},\n",
              " {'POSITIVO': 0.9999436140060425, 'NEGATIVO': 7.969907892402261e-05},\n",
              " {'POSITIVO': 0.9999417066574097, 'NEGATIVO': 6.030530494172126e-05},\n",
              " {'POSITIVO': 0.9999392032623291, 'NEGATIVO': 4.539786823443137e-05},\n",
              " {'POSITIVO': 0.9989486336708069, 'NEGATIVO': 0.004822487011551857},\n",
              " {'POSITIVO': 0.9998900890350342, 'NEGATIVO': 4.539786823443137e-05},\n",
              " {'POSITIVO': 0.9998351335525513, 'NEGATIVO': 4.539786823443137e-05},\n",
              " {'POSITIVO': 0.9998898506164551, 'NEGATIVO': 4.539786823443137e-05},\n",
              " {'POSITIVO': 0.9999110698699951, 'NEGATIVO': 4.539786823443137e-05},\n",
              " {'POSITIVO': 0.9999278783798218, 'NEGATIVO': 4.539786823443137e-05},\n",
              " {'POSITIVO': 0.9998533725738525, 'NEGATIVO': 4.539786823443137e-05},\n",
              " {'POSITIVO': 0.9999545812606812, 'NEGATIVO': 0.00010917138570221141},\n",
              " {'POSITIVO': 0.999896764755249, 'NEGATIVO': 4.539786823443137e-05},\n",
              " {'POSITIVO': 0.9999545812606812, 'NEGATIVO': 0.0001023429722408764},\n",
              " {'POSITIVO': 0.9994485974311829, 'NEGATIVO': 7.486586400773376e-05},\n",
              " {'POSITIVO': 0.999811589717865, 'NEGATIVO': 4.539786823443137e-05},\n",
              " {'POSITIVO': 0.999947190284729, 'NEGATIVO': 4.539786823443137e-05},\n",
              " {'POSITIVO': 0.9999455213546753, 'NEGATIVO': 4.539786823443137e-05},\n",
              " {'POSITIVO': 0.9998972415924072, 'NEGATIVO': 4.539786823443137e-05},\n",
              " {'POSITIVO': 0.9998501539230347, 'NEGATIVO': 4.539786823443137e-05},\n",
              " {'POSITIVO': 0.9999189376831055, 'NEGATIVO': 0.0001310466614086181},\n",
              " {'POSITIVO': 0.9998388290405273, 'NEGATIVO': 4.539786823443137e-05},\n",
              " {'POSITIVO': 0.9999545812606812, 'NEGATIVO': 4.711708606919274e-05},\n",
              " {'POSITIVO': 0.9999270439147949, 'NEGATIVO': 4.539786823443137e-05},\n",
              " {'POSITIVO': 0.9998950958251953, 'NEGATIVO': 4.539786823443137e-05},\n",
              " {'POSITIVO': 0.9999415874481201, 'NEGATIVO': 0.00015973653353285044},\n",
              " {'POSITIVO': 0.9999295473098755, 'NEGATIVO': 4.539786823443137e-05},\n",
              " {'POSITIVO': 0.9999217987060547, 'NEGATIVO': 5.040386167820543e-05},\n",
              " {'POSITIVO': 0.9998155236244202, 'NEGATIVO': 4.539786823443137e-05},\n",
              " {'POSITIVO': 0.9998840093612671, 'NEGATIVO': 4.539786823443137e-05},\n",
              " {'POSITIVO': 0.9999045133590698, 'NEGATIVO': 4.539786823443137e-05},\n",
              " {'POSITIVO': 0.9998621940612793, 'NEGATIVO': 4.539786823443137e-05},\n",
              " {'POSITIVO': 0.9999003410339355, 'NEGATIVO': 4.550900848698802e-05},\n",
              " {'POSITIVO': 0.9999426603317261, 'NEGATIVO': 4.539786823443137e-05},\n",
              " {'POSITIVO': 0.9999467134475708, 'NEGATIVO': 8.03442599135451e-05},\n",
              " {'POSITIVO': 0.9998947381973267, 'NEGATIVO': 4.539786823443137e-05},\n",
              " {'POSITIVO': 0.999847412109375, 'NEGATIVO': 4.539786823443137e-05},\n",
              " {'POSITIVO': 0.9997889399528503, 'NEGATIVO': 4.539786823443137e-05},\n",
              " {'POSITIVO': 0.9999380111694336, 'NEGATIVO': 4.539786823443137e-05},\n",
              " {'POSITIVO': 0.9998213648796082, 'NEGATIVO': 0.00013789176591672003},\n",
              " {'POSITIVO': 0.9998562335968018, 'NEGATIVO': 4.539786823443137e-05},\n",
              " {'POSITIVO': 0.9998061060905457, 'NEGATIVO': 4.539786823443137e-05},\n",
              " {'POSITIVO': 0.9999308586120605, 'NEGATIVO': 5.882803088752553e-05},\n",
              " {'POSITIVO': 0.9999396800994873, 'NEGATIVO': 5.2444815082708374e-05},\n",
              " {'POSITIVO': 0.9999457597732544, 'NEGATIVO': 0.0001854781003203243},\n",
              " {'POSITIVO': 0.999951958656311, 'NEGATIVO': 4.539786823443137e-05},\n",
              " {'POSITIVO': 0.9999314546585083, 'NEGATIVO': 4.539786823443137e-05},\n",
              " {'POSITIVO': 0.999891996383667, 'NEGATIVO': 4.539786823443137e-05},\n",
              " {'POSITIVO': 0.9997503161430359, 'NEGATIVO': 0.00010149153968086466},\n",
              " {'POSITIVO': 0.9999545812606812, 'NEGATIVO': 0.0002903756103478372},\n",
              " {'POSITIVO': 0.9997603297233582, 'NEGATIVO': 0.0004506651603151113},\n",
              " {'POSITIVO': 0.9999545812606812, 'NEGATIVO': 4.539786823443137e-05},\n",
              " {'POSITIVO': 0.999941349029541, 'NEGATIVO': 4.539786823443137e-05},\n",
              " {'POSITIVO': 0.999893069267273, 'NEGATIVO': 4.539786823443137e-05},\n",
              " {'POSITIVO': 0.9998712539672852, 'NEGATIVO': 8.829651778796688e-05},\n",
              " {'POSITIVO': 0.9999545812606812, 'NEGATIVO': 8.226306090364233e-05},\n",
              " {'POSITIVO': 0.99994957447052, 'NEGATIVO': 4.539786823443137e-05},\n",
              " {'POSITIVO': 0.9999377727508545, 'NEGATIVO': 4.539786823443137e-05},\n",
              " {'POSITIVO': 0.9997289776802063, 'NEGATIVO': 4.539786823443137e-05},\n",
              " {'POSITIVO': 0.9998894929885864, 'NEGATIVO': 4.539786823443137e-05},\n",
              " {'POSITIVO': 0.9999271631240845, 'NEGATIVO': 4.539786823443137e-05},\n",
              " {'POSITIVO': 0.9999254941940308, 'NEGATIVO': 9.011920337798074e-05},\n",
              " {'POSITIVO': 0.9999176263809204, 'NEGATIVO': 4.539786823443137e-05},\n",
              " {'POSITIVO': 0.9997984766960144, 'NEGATIVO': 4.539786823443137e-05},\n",
              " {'POSITIVO': 0.9999545812606812, 'NEGATIVO': 0.00013386117643676698},\n",
              " {'POSITIVO': 0.9999083280563354, 'NEGATIVO': 4.539786823443137e-05},\n",
              " {'POSITIVO': 0.9999377727508545, 'NEGATIVO': 4.539786823443137e-05},\n",
              " {'POSITIVO': 0.9999492168426514, 'NEGATIVO': 4.539786823443137e-05},\n",
              " {'POSITIVO': 0.9998923540115356, 'NEGATIVO': 4.539786823443137e-05},\n",
              " {'POSITIVO': 0.9998698234558105, 'NEGATIVO': 4.539786823443137e-05},\n",
              " {'POSITIVO': 0.999836802482605, 'NEGATIVO': 4.539786823443137e-05},\n",
              " {'POSITIVO': 0.9998258948326111, 'NEGATIVO': 4.593740595737472e-05},\n",
              " {'POSITIVO': 0.9997047781944275, 'NEGATIVO': 5.4044416174292564e-05},\n",
              " {'POSITIVO': 0.9998476505279541, 'NEGATIVO': 4.539786823443137e-05},\n",
              " {'POSITIVO': 0.9998805522918701, 'NEGATIVO': 4.539786823443137e-05},\n",
              " {'POSITIVO': 0.9958413243293762, 'NEGATIVO': 0.0006500812596641481},\n",
              " {'POSITIVO': 0.9999512434005737, 'NEGATIVO': 6.453180685639381e-05},\n",
              " {'POSITIVO': 0.999923586845398, 'NEGATIVO': 4.539786823443137e-05},\n",
              " {'POSITIVO': 0.9999545812606812, 'NEGATIVO': 8.230566891143098e-05},\n",
              " {'POSITIVO': 0.9999545812606812, 'NEGATIVO': 6.256427150219679e-05},\n",
              " {'POSITIVO': 0.9999039173126221, 'NEGATIVO': 5.3314666729420424e-05},\n",
              " {'POSITIVO': 0.9998181462287903, 'NEGATIVO': 4.539786823443137e-05},\n",
              " {'POSITIVO': 0.999750554561615, 'NEGATIVO': 4.539786823443137e-05},\n",
              " {'POSITIVO': 0.9998588562011719, 'NEGATIVO': 0.00032743008341640234},\n",
              " {'POSITIVO': 0.9998965263366699, 'NEGATIVO': 4.539786823443137e-05},\n",
              " {'POSITIVO': 0.9999189376831055, 'NEGATIVO': 6.082035179133527e-05},\n",
              " {'POSITIVO': 0.9997496008872986, 'NEGATIVO': 4.539786823443137e-05},\n",
              " {'POSITIVO': 0.99994957447052, 'NEGATIVO': 4.539786823443137e-05},\n",
              " {'POSITIVO': 0.999946117401123, 'NEGATIVO': 4.539786823443137e-05},\n",
              " {'POSITIVO': 0.9997362494468689, 'NEGATIVO': 4.539786823443137e-05},\n",
              " {'POSITIVO': 0.9998751878738403, 'NEGATIVO': 7.989799632923678e-05},\n",
              " {'POSITIVO': 0.9998968839645386, 'NEGATIVO': 4.539786823443137e-05},\n",
              " {'POSITIVO': 0.999859094619751, 'NEGATIVO': 0.0007497850456275046},\n",
              " {'POSITIVO': 0.9959055185317993, 'NEGATIVO': 0.0010762501042336226},\n",
              " {'POSITIVO': 0.9999043941497803, 'NEGATIVO': 4.539786823443137e-05},\n",
              " {'POSITIVO': 0.9999361038208008, 'NEGATIVO': 4.539786823443137e-05},\n",
              " {'POSITIVO': 0.9999545812606812, 'NEGATIVO': 4.539786823443137e-05},\n",
              " {'POSITIVO': 0.9762976169586182, 'NEGATIVO': 0.01823718473315239},\n",
              " {'POSITIVO': 0.9998869895935059, 'NEGATIVO': 5.963961302768439e-05},\n",
              " {'POSITIVO': 0.9998965263366699, 'NEGATIVO': 6.957966979825869e-05},\n",
              " {'POSITIVO': 0.9999070167541504, 'NEGATIVO': 5.2717135986313224e-05},\n",
              " {'POSITIVO': 0.9999333620071411, 'NEGATIVO': 0.00010131343151442707},\n",
              " {'POSITIVO': 0.9999287128448486, 'NEGATIVO': 4.539786823443137e-05},\n",
              " {'POSITIVO': 0.999915599822998, 'NEGATIVO': 4.539786823443137e-05},\n",
              " {'POSITIVO': 0.9998511075973511, 'NEGATIVO': 4.539786823443137e-05},\n",
              " {'POSITIVO': 0.9999271631240845, 'NEGATIVO': 4.539786823443137e-05},\n",
              " {'POSITIVO': 0.9997605681419373, 'NEGATIVO': 4.539786823443137e-05},\n",
              " {'POSITIVO': 0.999945878982544, 'NEGATIVO': 0.0001637180394027382},\n",
              " {'POSITIVO': 0.9999545812606812, 'NEGATIVO': 4.938368147122674e-05},\n",
              " {'POSITIVO': 0.999893069267273, 'NEGATIVO': 4.539786823443137e-05},\n",
              " {'POSITIVO': 0.9999545812606812, 'NEGATIVO': 6.921900057932362e-05},\n",
              " {'POSITIVO': 0.9998910427093506, 'NEGATIVO': 0.00013234918878879398},\n",
              " {'POSITIVO': 0.9998891353607178, 'NEGATIVO': 0.0001282102457480505},\n",
              " {'POSITIVO': 0.9999440908432007, 'NEGATIVO': 8.314153092214838e-05},\n",
              " {'POSITIVO': 0.9999545812606812, 'NEGATIVO': 0.000191026134416461},\n",
              " {'POSITIVO': 0.9998940229415894, 'NEGATIVO': 4.689323031925596e-05},\n",
              " {'POSITIVO': 0.9999194145202637, 'NEGATIVO': 4.539786823443137e-05},\n",
              " {'POSITIVO': 0.9998451471328735, 'NEGATIVO': 4.539786823443137e-05},\n",
              " {'POSITIVO': 0.9999468326568604, 'NEGATIVO': 4.539786823443137e-05},\n",
              " {'POSITIVO': 0.9999290704727173, 'NEGATIVO': 4.539786823443137e-05},\n",
              " {'POSITIVO': 0.9999545812606812, 'NEGATIVO': 4.539786823443137e-05},\n",
              " {'POSITIVO': 0.9998816251754761, 'NEGATIVO': 4.539786823443137e-05},\n",
              " {'POSITIVO': 0.9998914003372192, 'NEGATIVO': 4.539786823443137e-05},\n",
              " {'POSITIVO': 0.9999545812606812, 'NEGATIVO': 4.539786823443137e-05},\n",
              " {'POSITIVO': 0.9999010562896729, 'NEGATIVO': 9.373910870635882e-05},\n",
              " {'POSITIVO': 0.999742329120636, 'NEGATIVO': 0.00044896925101056695},\n",
              " {'POSITIVO': 0.9999145269393921, 'NEGATIVO': 4.539786823443137e-05},\n",
              " {'POSITIVO': 0.9998528957366943, 'NEGATIVO': 4.539786823443137e-05},\n",
              " {'POSITIVO': 0.9995824694633484, 'NEGATIVO': 0.000143069977639243},\n",
              " {'POSITIVO': 0.9998992681503296, 'NEGATIVO': 4.539786823443137e-05},\n",
              " {'POSITIVO': 0.9997926354408264, 'NEGATIVO': 0.0003350826445966959},\n",
              " {'POSITIVO': 0.9999451637268066, 'NEGATIVO': 8.234233246184886e-05},\n",
              " {'POSITIVO': 0.999893307685852, 'NEGATIVO': 5.617611896013841e-05},\n",
              " {'POSITIVO': 0.999907374382019, 'NEGATIVO': 4.539786823443137e-05},\n",
              " {'POSITIVO': 0.9998354911804199, 'NEGATIVO': 4.539786823443137e-05},\n",
              " {'POSITIVO': 0.999945878982544, 'NEGATIVO': 0.00012535974383354187},\n",
              " {'POSITIVO': 0.9998149275779724, 'NEGATIVO': 0.00013602065155282617},\n",
              " {'POSITIVO': 0.9994910955429077, 'NEGATIVO': 4.539786823443137e-05},\n",
              " {'POSITIVO': 0.9999545812606812, 'NEGATIVO': 4.539786823443137e-05},\n",
              " {'POSITIVO': 0.9991855025291443, 'NEGATIVO': 9.670334839029238e-05},\n",
              " {'POSITIVO': 0.9989349246025085, 'NEGATIVO': 0.00010650297190295532},\n",
              " {'POSITIVO': 0.9999545812606812, 'NEGATIVO': 0.00011726132652256638},\n",
              " {'POSITIVO': 0.9999066591262817, 'NEGATIVO': 4.539786823443137e-05},\n",
              " {'POSITIVO': 0.9999442100524902, 'NEGATIVO': 4.539786823443137e-05},\n",
              " {'POSITIVO': 0.9999439716339111, 'NEGATIVO': 7.024736987659708e-05},\n",
              " {'POSITIVO': 0.9997335076332092, 'NEGATIVO': 4.539786823443137e-05},\n",
              " {'POSITIVO': 0.9998711347579956, 'NEGATIVO': 4.539786823443137e-05},\n",
              " {'POSITIVO': 0.999846339225769, 'NEGATIVO': 6.404362648027018e-05},\n",
              " {'POSITIVO': 0.9995790123939514, 'NEGATIVO': 7.242051651701331e-05},\n",
              " {'POSITIVO': 0.9999545812606812, 'NEGATIVO': 6.724392005708069e-05},\n",
              " {'POSITIVO': 0.9999003410339355, 'NEGATIVO': 4.539786823443137e-05},\n",
              " {'POSITIVO': 0.9998273253440857, 'NEGATIVO': 4.539786823443137e-05},\n",
              " {'POSITIVO': 0.999937891960144, 'NEGATIVO': 4.539786823443137e-05},\n",
              " {'POSITIVO': 0.9998922348022461, 'NEGATIVO': 4.539786823443137e-05},\n",
              " {'POSITIVO': 0.9998784065246582, 'NEGATIVO': 4.539786823443137e-05},\n",
              " {'POSITIVO': 0.9998096823692322, 'NEGATIVO': 4.539786823443137e-05},\n",
              " {'POSITIVO': 0.9998617172241211, 'NEGATIVO': 4.539786823443137e-05},\n",
              " {'POSITIVO': 0.9996752738952637, 'NEGATIVO': 4.539786823443137e-05},\n",
              " {'POSITIVO': 0.9998965263366699, 'NEGATIVO': 4.539786823443137e-05},\n",
              " {'POSITIVO': 0.9998432397842407, 'NEGATIVO': 4.539786823443137e-05},\n",
              " {'POSITIVO': 0.9998980760574341, 'NEGATIVO': 4.539786823443137e-05},\n",
              " {'POSITIVO': 0.9999327659606934, 'NEGATIVO': 4.539786823443137e-05},\n",
              " {'POSITIVO': 0.9998743534088135, 'NEGATIVO': 4.539786823443137e-05},\n",
              " {'POSITIVO': 0.9998652935028076, 'NEGATIVO': 4.539786823443137e-05},\n",
              " {'POSITIVO': 0.9999188184738159, 'NEGATIVO': 4.539786823443137e-05},\n",
              " {'POSITIVO': 0.9999308586120605, 'NEGATIVO': 4.905994501314126e-05},\n",
              " {'POSITIVO': 0.9998544454574585, 'NEGATIVO': 5.206177229410969e-05},\n",
              " {'POSITIVO': 0.9999319314956665, 'NEGATIVO': 4.539786823443137e-05},\n",
              " {'POSITIVO': 0.9998942613601685, 'NEGATIVO': 4.539786823443137e-05},\n",
              " {'POSITIVO': 0.9999488592147827, 'NEGATIVO': 5.1045557484030724e-05},\n",
              " {'POSITIVO': 0.999929666519165, 'NEGATIVO': 4.539786823443137e-05},\n",
              " {'POSITIVO': 0.9999244213104248, 'NEGATIVO': 5.195380435907282e-05},\n",
              " {'POSITIVO': 0.9999070167541504, 'NEGATIVO': 4.539786823443137e-05},\n",
              " {'POSITIVO': 0.9996263980865479, 'NEGATIVO': 5.058910755906254e-05},\n",
              " {'POSITIVO': 0.9998805522918701, 'NEGATIVO': 0.0002543825830798596},\n",
              " {'POSITIVO': 0.9999217987060547, 'NEGATIVO': 4.8947833420243114e-05},\n",
              " {'POSITIVO': 0.9999545812606812, 'NEGATIVO': 5.741896166000515e-05},\n",
              " {'POSITIVO': 0.9999233484268188, 'NEGATIVO': 4.539786823443137e-05},\n",
              " {'POSITIVO': 0.9998960494995117, 'NEGATIVO': 4.539786823443137e-05},\n",
              " {'POSITIVO': 0.9998915195465088, 'NEGATIVO': 4.539786823443137e-05},\n",
              " {'POSITIVO': 0.9997913241386414, 'NEGATIVO': 4.539786823443137e-05},\n",
              " {'POSITIVO': 0.999911904335022, 'NEGATIVO': 8.163757593138143e-05},\n",
              " {'POSITIVO': 0.9999545812606812, 'NEGATIVO': 9.343175770482048e-05},\n",
              " {'POSITIVO': 0.9996246099472046, 'NEGATIVO': 0.000544405949767679},\n",
              " {'POSITIVO': 0.9998762607574463, 'NEGATIVO': 4.539786823443137e-05},\n",
              " {'POSITIVO': 0.9998655319213867, 'NEGATIVO': 4.539786823443137e-05},\n",
              " {'POSITIVO': 0.9999415874481201, 'NEGATIVO': 4.539786823443137e-05},\n",
              " {'POSITIVO': 0.9997772574424744, 'NEGATIVO': 4.539786823443137e-05},\n",
              " {'POSITIVO': 0.9995226860046387, 'NEGATIVO': 0.00023240990412887186},\n",
              " {'POSITIVO': 0.9995792508125305, 'NEGATIVO': 4.539786823443137e-05},\n",
              " {'POSITIVO': 0.9999545812606812, 'NEGATIVO': 4.539786823443137e-05},\n",
              " {'POSITIVO': 0.9998906850814819, 'NEGATIVO': 4.539786823443137e-05},\n",
              " {'POSITIVO': 0.9999150037765503, 'NEGATIVO': 4.539786823443137e-05},\n",
              " {'POSITIVO': 0.9999545812606812, 'NEGATIVO': 4.539786823443137e-05},\n",
              " {'POSITIVO': 0.9999349117279053, 'NEGATIVO': 4.539786823443137e-05},\n",
              " {'POSITIVO': 0.9998377561569214, 'NEGATIVO': 0.00010045656381407753},\n",
              " {'POSITIVO': 0.9998835325241089, 'NEGATIVO': 4.539786823443137e-05},\n",
              " {'POSITIVO': 0.9999545812606812, 'NEGATIVO': 6.658095662714913e-05},\n",
              " {'POSITIVO': 0.9997772574424744, 'NEGATIVO': 4.539786823443137e-05},\n",
              " {'POSITIVO': 0.9999102354049683, 'NEGATIVO': 0.0001164119312306866},\n",
              " {'POSITIVO': 0.9999009370803833, 'NEGATIVO': 4.539786823443137e-05},\n",
              " {'POSITIVO': 0.9999202489852905, 'NEGATIVO': 4.539786823443137e-05},\n",
              " {'POSITIVO': 0.9999219179153442, 'NEGATIVO': 8.658588194521144e-05},\n",
              " {'POSITIVO': 0.9999351501464844, 'NEGATIVO': 4.65287193947006e-05},\n",
              " {'POSITIVO': 0.9999383687973022, 'NEGATIVO': 4.539786823443137e-05},\n",
              " {'POSITIVO': 0.9999545812606812, 'NEGATIVO': 0.00030652526766061783},\n",
              " {'POSITIVO': 0.9999003410339355, 'NEGATIVO': 4.550900848698802e-05},\n",
              " {'POSITIVO': 0.9999469518661499, 'NEGATIVO': 4.539786823443137e-05},\n",
              " {'POSITIVO': 0.9999545812606812, 'NEGATIVO': 4.539786823443137e-05},\n",
              " {'POSITIVO': 0.9998470544815063, 'NEGATIVO': 4.539786823443137e-05},\n",
              " {'POSITIVO': 0.9999184608459473, 'NEGATIVO': 4.539786823443137e-05},\n",
              " {'POSITIVO': 0.9999545812606812, 'NEGATIVO': 0.00010120229126187041},\n",
              " {'POSITIVO': 0.9999545812606812, 'NEGATIVO': 9.47329681366682e-05},\n",
              " {'POSITIVO': 0.9997349381446838, 'NEGATIVO': 4.539786823443137e-05},\n",
              " {'POSITIVO': 0.9998986721038818, 'NEGATIVO': 4.539786823443137e-05},\n",
              " {'POSITIVO': 0.9999222755432129, 'NEGATIVO': 8.072995115071535e-05},\n",
              " {'POSITIVO': 0.9998462200164795, 'NEGATIVO': 4.539786823443137e-05},\n",
              " {'POSITIVO': 0.9998155236244202, 'NEGATIVO': 4.539786823443137e-05},\n",
              " {'POSITIVO': 0.9999303817749023, 'NEGATIVO': 4.539786823443137e-05},\n",
              " {'POSITIVO': 0.9999072551727295, 'NEGATIVO': 4.539786823443137e-05},\n",
              " {'POSITIVO': 0.9999434947967529, 'NEGATIVO': 5.502212297869846e-05},\n",
              " {'POSITIVO': 0.999890923500061, 'NEGATIVO': 4.539786823443137e-05},\n",
              " {'POSITIVO': 0.9998241066932678, 'NEGATIVO': 4.539786823443137e-05},\n",
              " {'POSITIVO': 0.9999545812606812, 'NEGATIVO': 4.539786823443137e-05},\n",
              " {'POSITIVO': 0.9999545812606812, 'NEGATIVO': 4.539786823443137e-05},\n",
              " {'POSITIVO': 0.9999394416809082, 'NEGATIVO': 4.539786823443137e-05},\n",
              " {'POSITIVO': 0.9999234676361084, 'NEGATIVO': 0.0003222087980248034},\n",
              " {'POSITIVO': 0.9998975992202759, 'NEGATIVO': 6.228597339941189e-05},\n",
              " {'POSITIVO': 0.9998549222946167, 'NEGATIVO': 4.539786823443137e-05},\n",
              " {'POSITIVO': 0.9999170303344727, 'NEGATIVO': 5.888763189432211e-05},\n",
              " {'POSITIVO': 0.9997981190681458, 'NEGATIVO': 0.00012770193279720843},\n",
              " {'POSITIVO': 0.9998602867126465, 'NEGATIVO': 4.539786823443137e-05},\n",
              " {'POSITIVO': 0.9999268054962158, 'NEGATIVO': 5.494877041201107e-05},\n",
              " {'POSITIVO': 0.9991661310195923, 'NEGATIVO': 0.0007701404974795878},\n",
              " {'POSITIVO': 0.9998860359191895, 'NEGATIVO': 4.539786823443137e-05},\n",
              " {'POSITIVO': 0.9998568296432495, 'NEGATIVO': 4.539786823443137e-05},\n",
              " {'POSITIVO': 0.9998735189437866, 'NEGATIVO': 4.539786823443137e-05},\n",
              " {'POSITIVO': 0.9999339580535889, 'NEGATIVO': 4.539786823443137e-05},\n",
              " {'POSITIVO': 0.9999542236328125, 'NEGATIVO': 4.539786823443137e-05},\n",
              " {'POSITIVO': 0.9998617172241211, 'NEGATIVO': 4.539786823443137e-05},\n",
              " {'POSITIVO': 0.9999096393585205, 'NEGATIVO': 6.833919906057417e-05},\n",
              " {'POSITIVO': 0.9998972415924072, 'NEGATIVO': 4.7485165850957856e-05},\n",
              " {'POSITIVO': 0.9999444484710693, 'NEGATIVO': 4.539786823443137e-05},\n",
              " {'POSITIVO': 0.9999545812606812, 'NEGATIVO': 8.488087041769177e-05},\n",
              " {'POSITIVO': 0.9999545812606812, 'NEGATIVO': 4.539786823443137e-05},\n",
              " {'POSITIVO': 0.9999456405639648, 'NEGATIVO': 8.220550080295652e-05},\n",
              " {'POSITIVO': 0.9999486207962036, 'NEGATIVO': 4.539786823443137e-05},\n",
              " {'POSITIVO': 0.9999366998672485, 'NEGATIVO': 4.6965640649432316e-05},\n",
              " {'POSITIVO': 0.9998904466629028, 'NEGATIVO': 0.00022142314992379397},\n",
              " {'POSITIVO': 0.9998301267623901, 'NEGATIVO': 4.539786823443137e-05},\n",
              " {'POSITIVO': 0.9998761415481567, 'NEGATIVO': 0.00013199288514442742},\n",
              " {'POSITIVO': 0.9999003410339355, 'NEGATIVO': 4.539786823443137e-05},\n",
              " {'POSITIVO': 0.9999269247055054, 'NEGATIVO': 4.539786823443137e-05},\n",
              " {'POSITIVO': 0.9999266862869263, 'NEGATIVO': 4.539786823443137e-05},\n",
              " {'POSITIVO': 0.9998575448989868, 'NEGATIVO': 0.000326187553582713},\n",
              " {'POSITIVO': 0.9999384880065918, 'NEGATIVO': 4.539786823443137e-05},\n",
              " {'POSITIVO': 0.9999288320541382, 'NEGATIVO': 4.539786823443137e-05},\n",
              " {'POSITIVO': 0.9999542236328125, 'NEGATIVO': 7.636331429239362e-05},\n",
              " {'POSITIVO': 0.999924898147583, 'NEGATIVO': 4.539786823443137e-05},\n",
              " {'POSITIVO': 0.9998351335525513, 'NEGATIVO': 4.539786823443137e-05},\n",
              " {'POSITIVO': 0.9995418787002563, 'NEGATIVO': 4.539786823443137e-05},\n",
              " {'POSITIVO': 0.9999189376831055, 'NEGATIVO': 6.843238952569664e-05},\n",
              " {'POSITIVO': 0.9999545812606812, 'NEGATIVO': 4.539786823443137e-05},\n",
              " {'POSITIVO': 0.9999123811721802, 'NEGATIVO': 4.539786823443137e-05},\n",
              " {'POSITIVO': 0.999950647354126, 'NEGATIVO': 4.539786823443137e-05},\n",
              " {'POSITIVO': 0.9999336004257202, 'NEGATIVO': 4.539786823443137e-05},\n",
              " {'POSITIVO': 0.9999545812606812, 'NEGATIVO': 8.225483179558069e-05},\n",
              " {'POSITIVO': 0.9998496770858765, 'NEGATIVO': 4.539786823443137e-05},\n",
              " {'POSITIVO': 0.9999384880065918, 'NEGATIVO': 4.539786823443137e-05},\n",
              " {'POSITIVO': 0.9999287128448486, 'NEGATIVO': 7.396549335680902e-05},\n",
              " {'POSITIVO': 0.9864597320556641, 'NEGATIVO': 0.008840479888021946},\n",
              " {'POSITIVO': 0.9999146461486816, 'NEGATIVO': 4.539786823443137e-05},\n",
              " {'POSITIVO': 0.9999371767044067, 'NEGATIVO': 4.926101246383041e-05},\n",
              " {'POSITIVO': 0.9999387264251709, 'NEGATIVO': 4.539786823443137e-05},\n",
              " {'POSITIVO': 0.9998844861984253, 'NEGATIVO': 0.00012142743798904121},\n",
              " {'POSITIVO': 0.9999321699142456, 'NEGATIVO': 4.539786823443137e-05},\n",
              " {'POSITIVO': 0.9998047947883606, 'NEGATIVO': 4.539786823443137e-05},\n",
              " {'POSITIVO': 0.9998815059661865, 'NEGATIVO': 4.539786823443137e-05},\n",
              " {'POSITIVO': 0.9999493360519409, 'NEGATIVO': 0.00031340724672190845},\n",
              " {'POSITIVO': 0.9998866319656372, 'NEGATIVO': 6.665846740361303e-05},\n",
              " {'POSITIVO': 0.9999524354934692, 'NEGATIVO': 6.0299444157863036e-05},\n",
              " {'POSITIVO': 0.9999196529388428, 'NEGATIVO': 4.539786823443137e-05},\n",
              " {'POSITIVO': 0.9999545812606812, 'NEGATIVO': 8.112205978250131e-05},\n",
              " {'POSITIVO': 0.9998939037322998, 'NEGATIVO': 0.00037668831646442413},\n",
              " {'POSITIVO': 0.999932050704956, 'NEGATIVO': 0.00010749748616944999},\n",
              " {'POSITIVO': 0.9998763799667358, 'NEGATIVO': 4.539786823443137e-05},\n",
              " {'POSITIVO': 0.9997865557670593, 'NEGATIVO': 4.539786823443137e-05},\n",
              " {'POSITIVO': 0.9999321699142456, 'NEGATIVO': 8.544104639440775e-05},\n",
              " {'POSITIVO': 0.9998486042022705, 'NEGATIVO': 9.177597530651838e-05},\n",
              " {'POSITIVO': 0.9998942613601685, 'NEGATIVO': 4.539786823443137e-05},\n",
              " {'POSITIVO': 0.999854326248169, 'NEGATIVO': 4.539786823443137e-05},\n",
              " {'POSITIVO': 0.9999545812606812, 'NEGATIVO': 4.539786823443137e-05},\n",
              " {'POSITIVO': 0.9998571872711182, 'NEGATIVO': 4.539786823443137e-05},\n",
              " {'POSITIVO': 0.9998795986175537, 'NEGATIVO': 4.539786823443137e-05},\n",
              " {'POSITIVO': 0.9999101161956787, 'NEGATIVO': 4.539786823443137e-05},\n",
              " {'POSITIVO': 0.9999324083328247, 'NEGATIVO': 4.539786823443137e-05},\n",
              " {'POSITIVO': 0.9996907711029053, 'NEGATIVO': 4.539786823443137e-05},\n",
              " {'POSITIVO': 0.9998832941055298, 'NEGATIVO': 4.539786823443137e-05},\n",
              " {'POSITIVO': 0.9998879432678223, 'NEGATIVO': 4.539786823443137e-05},\n",
              " {'POSITIVO': 0.9998780488967896, 'NEGATIVO': 4.539786823443137e-05},\n",
              " {'POSITIVO': 0.9998468160629272, 'NEGATIVO': 4.539786823443137e-05},\n",
              " {'POSITIVO': 0.9995750784873962, 'NEGATIVO': 4.539786823443137e-05},\n",
              " {'POSITIVO': 0.9896474480628967, 'NEGATIVO': 0.007644173689186573},\n",
              " {'POSITIVO': 0.9998458623886108, 'NEGATIVO': 4.539786823443137e-05},\n",
              " {'POSITIVO': 0.9999319314956665, 'NEGATIVO': 6.764305726392195e-05},\n",
              " {'POSITIVO': 0.9999003410339355, 'NEGATIVO': 4.550900848698802e-05},\n",
              " {'POSITIVO': 0.999950647354126, 'NEGATIVO': 4.539786823443137e-05},\n",
              " {'POSITIVO': 0.999924898147583, 'NEGATIVO': 6.056748316041194e-05},\n",
              " {'POSITIVO': 0.9997808337211609, 'NEGATIVO': 4.539786823443137e-05},\n",
              " {'POSITIVO': 0.9997422099113464, 'NEGATIVO': 4.539786823443137e-05},\n",
              " {'POSITIVO': 0.9999545812606812, 'NEGATIVO': 6.592433783225715e-05},\n",
              " {'POSITIVO': 0.9999241828918457, 'NEGATIVO': 4.539786823443137e-05},\n",
              " {'POSITIVO': 0.9999043941497803, 'NEGATIVO': 4.539786823443137e-05},\n",
              " {'POSITIVO': 0.9999393224716187, 'NEGATIVO': 6.375431985361502e-05},\n",
              " {'POSITIVO': 0.9998879432678223, 'NEGATIVO': 4.539786823443137e-05},\n",
              " {'POSITIVO': 0.9999545812606812, 'NEGATIVO': 0.00014216509589459747},\n",
              " {'POSITIVO': 0.9988787770271301, 'NEGATIVO': 0.002590351039543748},\n",
              " {'POSITIVO': 0.999893069267273, 'NEGATIVO': 4.539786823443137e-05},\n",
              " {'POSITIVO': 0.9999164342880249, 'NEGATIVO': 4.539786823443137e-05},\n",
              " {'POSITIVO': 0.9999545812606812, 'NEGATIVO': 4.539786823443137e-05},\n",
              " {'POSITIVO': 0.9999034404754639, 'NEGATIVO': 4.539786823443137e-05},\n",
              " {'POSITIVO': 0.9998805522918701, 'NEGATIVO': 0.00038548512384295464},\n",
              " {'POSITIVO': 0.9999266862869263, 'NEGATIVO': 4.786433055414818e-05},\n",
              " {'POSITIVO': 0.9999401569366455, 'NEGATIVO': 4.539786823443137e-05},\n",
              " {'POSITIVO': 0.9997512698173523, 'NEGATIVO': 4.539786823443137e-05},\n",
              " {'POSITIVO': 0.9998561143875122, 'NEGATIVO': 6.535223656101152e-05},\n",
              " {'POSITIVO': 0.9998667240142822, 'NEGATIVO': 4.539786823443137e-05},\n",
              " {'POSITIVO': 0.999839186668396, 'NEGATIVO': 4.539786823443137e-05},\n",
              " {'POSITIVO': 0.9996886253356934, 'NEGATIVO': 0.00025075129815377295},\n",
              " {'POSITIVO': 0.999900221824646, 'NEGATIVO': 5.706241063307971e-05},\n",
              " {'POSITIVO': 0.9999434947967529, 'NEGATIVO': 4.539786823443137e-05},\n",
              " {'POSITIVO': 0.9998998641967773, 'NEGATIVO': 4.539786823443137e-05},\n",
              " {'POSITIVO': 0.9997276663780212, 'NEGATIVO': 4.539786823443137e-05},\n",
              " {'POSITIVO': 0.9999469518661499, 'NEGATIVO': 4.539786823443137e-05},\n",
              " {'POSITIVO': 0.9998633861541748, 'NEGATIVO': 4.539786823443137e-05},\n",
              " {'POSITIVO': 0.9999184608459473, 'NEGATIVO': 4.539786823443137e-05},\n",
              " {'POSITIVO': 0.9997805953025818, 'NEGATIVO': 4.539786823443137e-05},\n",
              " {'POSITIVO': 0.9998061060905457, 'NEGATIVO': 4.539786823443137e-05},\n",
              " {'POSITIVO': 0.9999046325683594, 'NEGATIVO': 4.550696394289844e-05},\n",
              " {'POSITIVO': 0.999893069267273, 'NEGATIVO': 4.539786823443137e-05},\n",
              " {'POSITIVO': 0.9997928738594055, 'NEGATIVO': 4.539786823443137e-05},\n",
              " {'POSITIVO': 0.9998781681060791, 'NEGATIVO': 4.539786823443137e-05},\n",
              " {'POSITIVO': 0.9996761083602905, 'NEGATIVO': 0.00012787496962118894},\n",
              " {'POSITIVO': 0.9996920824050903, 'NEGATIVO': 4.539786823443137e-05},\n",
              " {'POSITIVO': 0.9998072981834412, 'NEGATIVO': 4.539786823443137e-05},\n",
              " {'POSITIVO': 0.9999545812606812, 'NEGATIVO': 7.238882244564593e-05},\n",
              " {'POSITIVO': 0.9998723268508911, 'NEGATIVO': 5.1912942581111565e-05},\n",
              " {'POSITIVO': 0.9997755885124207, 'NEGATIVO': 0.00010209645552095026},\n",
              " {'POSITIVO': 0.9999356269836426, 'NEGATIVO': 9.440012945560738e-05},\n",
              " {'POSITIVO': 0.9998960494995117, 'NEGATIVO': 0.000279057101579383},\n",
              " {'POSITIVO': 0.9999018907546997, 'NEGATIVO': 4.539786823443137e-05},\n",
              " {'POSITIVO': 0.9998003840446472, 'NEGATIVO': 4.539786823443137e-05},\n",
              " {'POSITIVO': 0.9998881816864014, 'NEGATIVO': 4.539786823443137e-05},\n",
              " {'POSITIVO': 0.9999054670333862, 'NEGATIVO': 0.00013695130473934114},\n",
              " {'POSITIVO': 0.9998786449432373, 'NEGATIVO': 4.539786823443137e-05},\n",
              " {'POSITIVO': 0.9998458623886108, 'NEGATIVO': 4.784297925652936e-05},\n",
              " {'POSITIVO': 0.9999003410339355, 'NEGATIVO': 4.550900848698802e-05},\n",
              " {'POSITIVO': 0.9999492168426514, 'NEGATIVO': 4.539786823443137e-05},\n",
              " {'POSITIVO': 0.9999203681945801, 'NEGATIVO': 5.414707993622869e-05},\n",
              " {'POSITIVO': 0.9997761845588684, 'NEGATIVO': 0.0005053476779721677},\n",
              " {'POSITIVO': 0.9999397993087769, 'NEGATIVO': 4.539786823443137e-05},\n",
              " {'POSITIVO': 0.9998989105224609, 'NEGATIVO': 4.539786823443137e-05},\n",
              " {'POSITIVO': 0.9999545812606812, 'NEGATIVO': 4.539786823443137e-05},\n",
              " {'POSITIVO': 0.9998387098312378, 'NEGATIVO': 4.539786823443137e-05},\n",
              " {'POSITIVO': 0.9998835325241089, 'NEGATIVO': 4.539786823443137e-05},\n",
              " {'POSITIVO': 0.999950647354126, 'NEGATIVO': 4.539786823443137e-05},\n",
              " {'POSITIVO': 0.9999545812606812, 'NEGATIVO': 9.755675273481756e-05},\n",
              " {'POSITIVO': 0.9999083280563354, 'NEGATIVO': 0.00011607553460635245},\n",
              " {'POSITIVO': 0.9998505115509033, 'NEGATIVO': 4.539786823443137e-05},\n",
              " {'POSITIVO': 0.9999040365219116, 'NEGATIVO': 4.539786823443137e-05},\n",
              " {'POSITIVO': 0.9999388456344604, 'NEGATIVO': 8.27596231829375e-05},\n",
              " {'POSITIVO': 0.999943733215332, 'NEGATIVO': 4.539786823443137e-05},\n",
              " {'POSITIVO': 0.999862790107727, 'NEGATIVO': 4.539786823443137e-05},\n",
              " {'POSITIVO': 0.9998664855957031, 'NEGATIVO': 4.539786823443137e-05},\n",
              " {'POSITIVO': 0.9999293088912964, 'NEGATIVO': 4.539786823443137e-05},\n",
              " {'POSITIVO': 0.9999498128890991, 'NEGATIVO': 0.00011782635556301102},\n",
              " {'POSITIVO': 0.9998965263366699, 'NEGATIVO': 9.32809489313513e-05},\n",
              " {'POSITIVO': 0.9999048709869385, 'NEGATIVO': 4.539786823443137e-05},\n",
              " {'POSITIVO': 0.9997544884681702, 'NEGATIVO': 4.539786823443137e-05},\n",
              " {'POSITIVO': 0.999832272529602, 'NEGATIVO': 4.539786823443137e-05},\n",
              " {'POSITIVO': 0.9998365640640259, 'NEGATIVO': 4.616537262336351e-05},\n",
              " ...]"
            ]
          },
          "execution_count": 68,
          "metadata": {},
          "output_type": "execute_result"
        }
      ],
      "source": [
        "predictions = []\n",
        "for text in training_database['tweet_text']:\n",
        "  prediction = twitter_model(text)\n",
        "  predictions.append(prediction.cats)\n",
        "\n",
        "predictions"
      ]
    },
    {
      "cell_type": "code",
      "execution_count": 69,
      "metadata": {
        "id": "YXTXMXAgEDMR"
      },
      "outputs": [
        {
          "data": {
            "text/plain": [
              "array([1, 1, 1, ..., 0, 0, 0])"
            ]
          },
          "execution_count": 69,
          "metadata": {},
          "output_type": "execute_result"
        }
      ],
      "source": [
        "final_predictions = []\n",
        "for prediction in predictions:\n",
        "  if prediction['POSITIVO'] > prediction['NEGATIVO']:\n",
        "    final_predictions.append(1)\n",
        "  else:\n",
        "    final_predictions.append(0)\n",
        "\n",
        "final_predictions = np.array(final_predictions)\n",
        "\n",
        "final_predictions"
      ]
    },
    {
      "cell_type": "code",
      "execution_count": 70,
      "metadata": {
        "colab": {
          "base_uri": "https://localhost:8080/"
        },
        "id": "3bbnP269EaYs",
        "outputId": "ec912c86-3234-48e9-fd90-79b64f53a959"
      },
      "outputs": [
        {
          "data": {
            "text/plain": [
              "array([1, 1, 1, ..., 0, 0, 0])"
            ]
          },
          "execution_count": 70,
          "metadata": {},
          "output_type": "execute_result"
        }
      ],
      "source": [
        "real_responses = training_database['sentiment'].values\n",
        "real_responses"
      ]
    },
    {
      "cell_type": "code",
      "execution_count": 71,
      "metadata": {
        "colab": {
          "base_uri": "https://localhost:8080/"
        },
        "id": "7dM1nOQtEo6p",
        "outputId": "19ca82b3-8d72-4765-d919-84d368047665"
      },
      "outputs": [
        {
          "data": {
            "text/plain": [
              "1.0"
            ]
          },
          "execution_count": 71,
          "metadata": {},
          "output_type": "execute_result"
        }
      ],
      "source": [
        "\n",
        "accuracy_score(real_responses, final_predictions)"
      ]
    },
    {
      "cell_type": "code",
      "execution_count": 72,
      "metadata": {
        "colab": {
          "base_uri": "https://localhost:8080/"
        },
        "id": "UuI8nXdAE-Nw",
        "outputId": "5fffdcc8-7720-42a1-c8a7-0a5f33b632d8"
      },
      "outputs": [
        {
          "data": {
            "text/plain": [
              "array([[25000,     0],\n",
              "       [    0, 25000]])"
            ]
          },
          "execution_count": 72,
          "metadata": {},
          "output_type": "execute_result"
        }
      ],
      "source": [
        "cm = confusion_matrix(real_responses, final_predictions)\n",
        "cm"
      ]
    },
    {
      "cell_type": "code",
      "execution_count": 73,
      "metadata": {
        "colab": {
          "base_uri": "https://localhost:8080/"
        },
        "id": "ws7BgykmyWQG",
        "outputId": "605fbb83-62dd-40cf-93f7-ff130d333537"
      },
      "outputs": [
        {
          "data": {
            "image/png": "[encoded data removed]",
            "text/plain": [
              "<Figure size 640x480 with 2 Axes>"
            ]
          },
          "metadata": {},
          "output_type": "display_data"
        }
      ],
      "source": [
        "sns.heatmap(cm, annot=True);"
      ]
    },
    {
      "cell_type": "markdown",
      "metadata": {
        "id": "HmLjfVrZAE2T"
      },
      "source": [
        "### Testing set evaluation"
      ]
    },
    {
      "cell_type": "code",
      "execution_count": 74,
      "metadata": {
        "id": "AwmnAwRcF1sD"
      },
      "outputs": [],
      "source": [
        "predictions = []\n",
        "for text in testing_database['tweet_text']:\n",
        "  prediction = twitter_model(text)\n",
        "  predictions.append(prediction.cats)"
      ]
    },
    {
      "cell_type": "code",
      "execution_count": 75,
      "metadata": {
        "id": "Y7MpSvS4F8xv"
      },
      "outputs": [],
      "source": [
        "final_predictions = []\n",
        "for prediction in predictions:\n",
        "  if prediction['POSITIVO'] > prediction['NEGATIVO']:\n",
        "    final_predictions.append(1)\n",
        "  else:\n",
        "    final_predictions.append(0)\n",
        "\n",
        "final_predictions = np.array(final_predictions)"
      ]
    },
    {
      "cell_type": "code",
      "execution_count": 76,
      "metadata": {
        "id": "rgoCy1SXGEkw"
      },
      "outputs": [],
      "source": [
        "real_responses = testing_database['sentiment'].values"
      ]
    },
    {
      "cell_type": "code",
      "execution_count": 77,
      "metadata": {
        "colab": {
          "base_uri": "https://localhost:8080/"
        },
        "id": "HbpqmtMlGJ0T",
        "outputId": "c5fc1207-f7cb-466d-c0e5-023f9b0ec002"
      },
      "outputs": [
        {
          "data": {
            "text/plain": [
              "0.998"
            ]
          },
          "execution_count": 77,
          "metadata": {},
          "output_type": "execute_result"
        }
      ],
      "source": [
        "accuracy_score(real_responses, final_predictions)"
      ]
    },
    {
      "cell_type": "code",
      "execution_count": 78,
      "metadata": {
        "colab": {
          "base_uri": "https://localhost:8080/"
        },
        "id": "noYdfAJ0GQAF",
        "outputId": "5ee84abc-3126-4724-84bd-06360415b367"
      },
      "outputs": [
        {
          "data": {
            "text/plain": [
              "array([[2497,    3],\n",
              "       [   7, 2493]])"
            ]
          },
          "execution_count": 78,
          "metadata": {},
          "output_type": "execute_result"
        }
      ],
      "source": [
        "cm = confusion_matrix(real_responses, final_predictions)\n",
        "cm"
      ]
    },
    {
      "cell_type": "code",
      "execution_count": 79,
      "metadata": {
        "colab": {
          "base_uri": "https://localhost:8080/"
        },
        "id": "WCe0F3G8zQkW",
        "outputId": "2830a611-9b7b-4e5e-9443-c9635f380cf2"
      },
      "outputs": [
        {
          "data": {
            "image/png": "[encoded data removed]",
            "text/plain": [
              "<Figure size 640x480 with 2 Axes>"
            ]
          },
          "metadata": {},
          "output_type": "display_data"
        }
      ],
      "source": [
        "sns.heatmap(cm, annot=True);"
      ]
    }
  ],
  "metadata": {
    "accelerator": "TPU",
    "colab": {
      "provenance": []
    },
    "kernelspec": {
      "display_name": "Python 3",
      "name": "python3"
    },
    "language_info": {
      "codemirror_mode": {
        "name": "ipython",
        "version": 3
      },
      "file_extension": ".py",
      "mimetype": "text/x-python",
      "name": "python",
      "nbconvert_exporter": "python",
      "pygments_lexer": "ipython3",
      "version": "3.10.12"
    }
  },
  "nbformat": 4,
  "nbformat_minor": 0
}
